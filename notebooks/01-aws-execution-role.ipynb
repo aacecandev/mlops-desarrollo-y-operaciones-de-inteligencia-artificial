{
 "cells": [
  {
   "cell_type": "markdown",
   "metadata": {},
   "source": [
    "# IAM Role\n",
    "\n",
    "Un rol de IAM es una identidad asociada a tu cuenta de AWS que tiene políticas de permisos preconfiguradas que determinan lo que este rol puede hacer sobre los recursos de AWS. Por ejemplo, puedes definir un rol que pueda hacer *todo* con tu bucket S3,  pero nada más. Tal rol es útil si es *asumido* por un programa que sincroniza sus datos desde una máquina local en un bucket S3. Puedes estar seguro de que este programa no creará accidentalmente instancias EC2 que incurran en mayores costes. \n",
    "\n",
    "\n",
    "Los roles de IAM se utilizan para conceder permisos a los servicios de AWS para operar sobre los recursos en tu nombre. Cuando usas un servicio de AWS (por ejemplo, SageMaker), puedes definir un rol que el servicio pueda asumir en tu nombre para acceder a los recursos de AWS. Por ejemplo, el servicio SageMaker necesita acceder a cubos S3, instancias EC2, Registros Elásticos de Contenedores, etc. Para evitar incurrir en demasiados costes de computación, puede definir un rol que sea capaz de crear sólo instancias EC2 de bajo coste. Cuando SageMaker asume este rol y ejecuta su flujo de trabajo de ML, puede estimar el límite superior del costo de cómputo basado en la política de EC2 del rol. \n",
    "\n",
    "Para lecturas más extensas sobre el rol IAM, consulte la [documentación de AWS](https://docs.aws.amazon.com/IAM/latest/UserGuide/id_roles_terms-and-concepts.html#iam-term-role-chaining)"
   ]
  },
  {
   "cell_type": "markdown",
   "metadata": {},
   "source": [
    "## Entornos para ejecutar este notebook\n",
    "\n",
    "1. Si estás ejecutando este noebook desde una instancia de EC2, asegúrate de que la variable de entorno `AWS_PROFILE` está establecida en `default`.\n",
    "\n",
    "2. Si estás ejecutando este notebook en tu máquina local, tendrás que instalar y configurar la interfaz de línea de comandos de aws. Siga [este enlace](https://docs.aws.amazon.com/cli/latest/userguide/cli-chap-configure.html) para hacerlo.\n",
    "\n",
    "El usuario/rol IAM que ejecute este notebook debe tener al menos el permiso `iam:CreateRole` y `iam:DeleteRole` y `sts:AssumeRole`. \n",
    "\n",
    "No recomiendo ejecutarlo en una Instancia de SageMaker Notebook o Studio, porque el rol que utiliza dicho servicio tiene de serie permisos mucho más amplios que los que vamos a demostrar en este notebook para demostrar cómo se puede crear un rol IAM como un usuario IAM a través de AWS Python SDK (boto3). "
   ]
  },
  {
   "cell_type": "markdown",
   "metadata": {},
   "source": [
    "## boto3, primera aproximación"
   ]
  },
  {
   "cell_type": "markdown",
   "metadata": {},
   "source": [
    "https://boto3.amazonaws.com/v1/documentation/api/latest/index.html"
   ]
  },
  {
   "cell_type": "markdown",
   "metadata": {},
   "source": [
    "### Control de errores"
   ]
  },
  {
   "cell_type": "markdown",
   "metadata": {},
   "source": [
    "https://docs.python.org/3/tutorial/errors.html\n",
    "\n",
    "https://boto3.amazonaws.com/v1/documentation/api/latest/guide/error-handling.html"
   ]
  },
  {
   "cell_type": "code",
   "execution_count": null,
   "metadata": {
    "tags": []
   },
   "outputs": [],
   "source": [
    "import botocore.exceptions\n",
    "\n",
    "for key, value in sorted(botocore.exceptions.__dict__.items()):\n",
    "    if isinstance(value, type):\n",
    "        print(key)"
   ]
  },
  {
   "cell_type": "code",
   "execution_count": null,
   "metadata": {},
   "outputs": [],
   "source": []
  },
  {
   "cell_type": "code",
   "execution_count": null,
   "metadata": {},
   "outputs": [],
   "source": []
  },
  {
   "cell_type": "markdown",
   "metadata": {},
   "source": [
    "## Crear un rol IAM\n",
    "\n",
    "Cuando se crea un rol IAM es necesario especificar\n",
    "\n",
    "1. Qué entidades de AWS (usuarios o servicios) pueden asumir este rol. Está definido en una *política de confianza*.\n",
    "2. Qué permisos tiene este rol. Está definido por una *política de permisos*.\n",
    "\n",
    "Para más detalles, consulta la sección [Creación de un rol para delegar permisos a un servicio de AWS](https://docs.aws.amazon.com/IAM/latest/UserGuide/id_roles_create_for-service.html) de la documentación oficial. \n",
    "\n",
    "La entidad a la que asume el rol se denomina *Principal*. "
   ]
  },
  {
   "cell_type": "code",
   "execution_count": null,
   "metadata": {},
   "outputs": [],
   "source": [
    "import boto3\n",
    "import pprint\n",
    "import json\n",
    "import time\n",
    "\n",
    "pp = pprint.PrettyPrinter(indent=1)\n",
    "iam = boto3.client(\"iam\")"
   ]
  },
  {
   "cell_type": "markdown",
   "metadata": {},
   "source": [
    "En primer lugar vamos a conseguir el ARN de nuestro usuario, el que hemos configurado al disponibilizar nuestro juego de claves"
   ]
  },
  {
   "cell_type": "code",
   "execution_count": null,
   "metadata": {},
   "outputs": [],
   "source": [
    "caller_arn = boto3.client(\"sts\").get_caller_identity()[\"Arn\"]\n",
    "\n",
    "print(caller_arn)"
   ]
  },
  {
   "cell_type": "code",
   "execution_count": null,
   "metadata": {},
   "outputs": [],
   "source": [
    "def create_execution_role(role_name=\"basic-role\"):\n",
    "    \"\"\"Crear un rol de servicio para adquirir servicios en su nombre\n",
    "\n",
    "\n",
    "    Args:\n",
    "        role_name (str): nombre del rol\n",
    "\n",
    "    Return:\n",
    "        dict\n",
    "    \"\"\"\n",
    "\n",
    "    # si el rol ya existe, se eliminará\n",
    "\n",
    "    # Nota: debes asegurarte de que el rol no se\n",
    "    # usa en producción, porque este código va a\n",
    "    # borrar el rol y crear uno nuevo\n",
    "\n",
    "    def find_role(role_res, role_name):\n",
    "        for r in role_res[\"Roles\"]:\n",
    "            if r[\"RoleName\"] == role_name:\n",
    "                return True\n",
    "        return False\n",
    "\n",
    "    def delete_role(role_res, role_name):\n",
    "        if find_role(role_res, role_name):\n",
    "            role = boto3.resource(\"iam\").Role(role_name)\n",
    "            for p in role.attached_policies.all():\n",
    "                role.detach_policy(PolicyArn=p.arn)\n",
    "\n",
    "            iam.delete_role(RoleName=role.name)\n",
    "            return\n",
    "\n",
    "    role_res = iam.list_roles(MaxItems=10)\n",
    "    delete_role(role_res, role_name)\n",
    "\n",
    "    # Gestionamos la paginación\n",
    "    while \"Marker\" in role_res:\n",
    "        role_res = iam.list_roles(MaxItems=10, Marker=role_res[\"Marker\"])\n",
    "        delete_role(role_res, role_name)\n",
    "\n",
    "    # Trust policy document\n",
    "    trust_relation_policy_doc = {\n",
    "        \"Version\": \"2012-10-17\",\n",
    "        \"Statement\": [\n",
    "            {\n",
    "                \"Effect\": \"Allow\",\n",
    "                \"Principal\": {\n",
    "                    \"AWS\": caller_arn,  # Permite que el caller asuma este rol\n",
    "                    \"Service\": [\"sagemaker.amazonaws.com\"],  # Permite al servicio SageMaker asumir el rol\n",
    "                },\n",
    "                \"Action\": \"sts:AssumeRole\",\n",
    "            }\n",
    "        ],\n",
    "    }\n",
    "\n",
    "    res = iam.create_role(\n",
    "        RoleName=role_name, AssumeRolePolicyDocument=json.dumps(trust_relation_policy_doc)\n",
    "    )\n",
    "    return res"
   ]
  },
  {
   "cell_type": "markdown",
   "metadata": {},
   "source": [
    "La política de confianza anterior dice que confiamos al usuario de la sesión actual de boto3 (nosotros mismos) y a SageMaker para que asuman este rol. "
   ]
  },
  {
   "cell_type": "markdown",
   "metadata": {},
   "source": [
    "Creamos el rol utilizando la función definida arriba"
   ]
  },
  {
   "cell_type": "code",
   "execution_count": null,
   "metadata": {},
   "outputs": [],
   "source": [
    "role_res = create_execution_role()\n",
    "pp.pprint(role_res)"
   ]
  },
  {
   "cell_type": "markdown",
   "metadata": {},
   "source": [
    "Ahora, vamos a dar al rol algunos permisos. El diccionario de abajo es un ejemplo de permiso de política. Dice: permitir que el rol liste buckets en la cuenta de AWS."
   ]
  },
  {
   "cell_type": "code",
   "execution_count": null,
   "metadata": {},
   "outputs": [],
   "source": [
    "basic_s3_permission = {\n",
    "    \"Version\": \"2012-10-17\",\n",
    "    \"Statement\": [\n",
    "        {\n",
    "            \"Effect\": \"Allow\",\n",
    "            \"Action\": [\n",
    "                \"s3:List*\"  # Permite al rol la acción de listar, p.ej acceso de lectura\n",
    "                # \"s3:*\" # Permite cualquier tipo de acción sobre s3\n",
    "            ],\n",
    "            \"Resource\": [\"arn:aws:s3:::*\"],\n",
    "        }\n",
    "    ],\n",
    "}"
   ]
  },
  {
   "cell_type": "markdown",
   "metadata": {},
   "source": [
    "Crear la policy\n",
    "\n",
    "Si la política ya esxiste entonces hay que borrarla primero\n",
    "\n",
    "Nota: debes asegurarte de que no tienes una política el mismo nombre en producción, porque la vamos a borrar\n",
    "y crearemos una nueva con el documento anterior"
   ]
  },
  {
   "cell_type": "code",
   "execution_count": null,
   "metadata": {},
   "outputs": [],
   "source": [
    "def attach_permission(role_name, policy_name, policy_doc):\n",
    "    \"\"\"Attach a basic permission policy to the role\"\"\"\n",
    "\n",
    "    policy = None\n",
    "    for p in iam.list_policies()[\"Policies\"]:\n",
    "        if p[\"PolicyName\"] == policy_name:\n",
    "            # Antes de borrar la policy, necesitamos desasociarla\n",
    "            # de todas las entidades a las que esté asociada\n",
    "            policy = boto3.resource(\"iam\").Policy(p[\"Arn\"])\n",
    "\n",
    "            # 1. Desasociamos de todos los grupos\n",
    "            for grp in policy.attached_groups.all():\n",
    "                policy.detach_group(GroupName=grp.name)\n",
    "\n",
    "            # 2. Desasociamos de todos los usuarios\n",
    "            for usr in policy.attached_users.all():\n",
    "                policy.detach_user(UserName=usr.name)\n",
    "\n",
    "            # 3. Desasociamos de todos los roles\n",
    "            for rol in policy.attached_roles.all():\n",
    "                policy.detach_role(RoleName=rol.name)\n",
    "\n",
    "            break\n",
    "\n",
    "    if policy is not None:\n",
    "        iam.delete_policy(PolicyArn=policy.arn)\n",
    "\n",
    "    # Creamos una nueva política\n",
    "    policy = iam.create_policy(PolicyName=policy_name, PolicyDocument=json.dumps(policy_doc))[\n",
    "        \"Policy\"\n",
    "    ]\n",
    "\n",
    "    # Asociamos la policy con el rol\n",
    "    res = iam.attach_role_policy(RoleName=role_name, PolicyArn=policy[\"Arn\"])\n",
    "    return res"
   ]
  },
  {
   "cell_type": "markdown",
   "metadata": {},
   "source": [
    "Con la siguiente ejecución vamos a asociar ambas entidades y a examinar la respuesta"
   ]
  },
  {
   "cell_type": "code",
   "execution_count": null,
   "metadata": {},
   "outputs": [],
   "source": [
    "perm_res = attach_permission(\n",
    "    role_name=role_res[\"Role\"][\"RoleName\"],\n",
    "    policy_name=\"BasicS3Policy\",\n",
    "    policy_doc=basic_s3_permission,\n",
    ")\n",
    "\n",
    "pp.pprint(perm_res)"
   ]
  },
  {
   "cell_type": "markdown",
   "metadata": {},
   "source": [
    "Esperamos 15 segundos para que la policý se propague"
   ]
  },
  {
   "cell_type": "code",
   "execution_count": null,
   "metadata": {},
   "outputs": [],
   "source": [
    "time.sleep(15)"
   ]
  },
  {
   "cell_type": "markdown",
   "metadata": {},
   "source": [
    "## Testeamos el rol\n",
    "\n",
    "Ahora podemos verificar que el rol que acabamos de crear (`basic-role`) tiene permiso para listar todos los buckets de S3 en nuestra cuenta y no tiene permiso para hacer nada más con ningún otro recurso de AWS. "
   ]
  },
  {
   "cell_type": "markdown",
   "metadata": {},
   "source": [
    "Creamos una nueva sesión de boto3 asumiendo el rol"
   ]
  },
  {
   "cell_type": "code",
   "execution_count": null,
   "metadata": {},
   "outputs": [],
   "source": [
    "import time\n",
    "\n",
    "now = str(time.time()).split(\".\")[0]\n",
    "\n",
    "obj = boto3.client(\"sts\").assume_role(RoleArn=role_res[\"Role\"][\"Arn\"], RoleSessionName=now)\n",
    "\n",
    "cred = obj[\"Credentials\"]"
   ]
  },
  {
   "cell_type": "markdown",
   "metadata": {},
   "source": [
    "Vamos a observar las credenciales generadas. Recuerda borrar la ejecución de esta celda para no subir credenciales a un repositorio"
   ]
  },
  {
   "cell_type": "code",
   "execution_count": null,
   "metadata": {},
   "outputs": [],
   "source": [
    "# print(creds)"
   ]
  },
  {
   "cell_type": "markdown",
   "metadata": {},
   "source": [
    "Generamos un objeto de tipo sesión utilizando las credenciales anteriores"
   ]
  },
  {
   "cell_type": "code",
   "execution_count": null,
   "metadata": {},
   "outputs": [],
   "source": [
    "sess = boto3.session.Session(\n",
    "    aws_access_key_id=cred[\"AccessKeyId\"],\n",
    "    aws_secret_access_key=cred[\"SecretAccessKey\"],\n",
    "    aws_session_token=cred[\"SessionToken\"],\n",
    ")"
   ]
  },
  {
   "cell_type": "markdown",
   "metadata": {},
   "source": [
    "Iniciamos un nuevo cliente de S3 utilizando la sesión generada"
   ]
  },
  {
   "cell_type": "code",
   "execution_count": null,
   "metadata": {},
   "outputs": [],
   "source": [
    "s3 = sess.client(\"s3\")"
   ]
  },
  {
   "cell_type": "markdown",
   "metadata": {},
   "source": [
    "Listamos los buckets, ya que hemos asignado permisos de lectura"
   ]
  },
  {
   "cell_type": "code",
   "execution_count": null,
   "metadata": {},
   "outputs": [],
   "source": [
    "pp.pprint(s3.list_buckets())"
   ]
  },
  {
   "cell_type": "markdown",
   "metadata": {},
   "source": [
    "Intentemos crear un bucket con el cliente S3\n",
    "\n",
    "Se espera que falle, porque el `basic-role` no tiene asignada ninguna policy para crear buckets\n",
    "\n",
    "Recordemos que el nombre del bucket tiene que ser único. ¿Por qué?"
   ]
  },
  {
   "cell_type": "code",
   "execution_count": null,
   "metadata": {},
   "outputs": [],
   "source": [
    "import time\n",
    "\n",
    "\n",
    "def create_bucket(s3_client):\n",
    "    try:\n",
    "        now = str(time.time()).split(\".\")[0]\n",
    "        res = s3_client.create_bucket(\n",
    "            Bucket=\"bucket-{}\".format(now),  \n",
    "            #CreateBucketConfiguration={\"LocationConstraint\": sess.region_name}, # not needed in us-east-1 https://stackoverflow.com/questions/51912072/invalidlocationconstraint-error-while-creating-s3-bucket-when-the-used-command-i\n",
    "        )\n",
    "\n",
    "        return res\n",
    "    except Exception as e:\n",
    "        print(e)\n",
    "        return e\n",
    "\n",
    "\n",
    "# Va a fallar!\n",
    "create_bucket(s3)"
   ]
  },
  {
   "cell_type": "markdown",
   "metadata": {},
   "source": [
    "Ahora, solucionemos esto para que el rol `basic-role` pueda crear buckets\n",
    "\n",
    "Vamos a generar una nueva policy"
   ]
  },
  {
   "cell_type": "code",
   "execution_count": null,
   "metadata": {},
   "outputs": [],
   "source": [
    "create_bucket_permission = {\n",
    "    \"Version\": \"2012-10-17\",\n",
    "    \"Statement\": [\n",
    "        {\"Effect\": \"Allow\", \"Action\": [\"s3:CreateBucket\"], \"Resource\": [\"arn:aws:s3:::*\"]}\n",
    "    ],\n",
    "}"
   ]
  },
  {
   "cell_type": "markdown",
   "metadata": {},
   "source": [
    "Nota: las políticas asociadas son incrementales, esto significa que si adjuntamos `create_bucket_permission` a `basic-role`, el efecto de `basic_s3_permission` sigue vigente.\n",
    "\n",
    "Por lo tanto, `basic-role` sigue siendo capaz de realizar acciones de `List*`. "
   ]
  },
  {
   "cell_type": "code",
   "execution_count": null,
   "metadata": {},
   "outputs": [],
   "source": [
    "perm_res = attach_permission(\n",
    "    role_name=role_res[\"Role\"][\"RoleName\"],\n",
    "    policy_name=\"CreateBucket\",\n",
    "    policy_doc=create_bucket_permission,\n",
    ")"
   ]
  },
  {
   "cell_type": "markdown",
   "metadata": {},
   "source": [
    "Observamos la response"
   ]
  },
  {
   "cell_type": "code",
   "execution_count": null,
   "metadata": {},
   "outputs": [],
   "source": [
    "pp.pprint(perm_res)\n",
    "time.sleep(15)"
   ]
  },
  {
   "cell_type": "markdown",
   "metadata": {},
   "source": [
    "Seguimos utilizando la sesión del rol que hemos asumido, por lo que no es necesario crear un nuevo token"
   ]
  },
  {
   "cell_type": "code",
   "execution_count": null,
   "metadata": {},
   "outputs": [],
   "source": [
    "res = create_bucket(s3)\n",
    "location = res[\"Location\"]\n",
    "bucket_name = location.split(\"/\")[1].split(\".\")[0]"
   ]
  },
  {
   "cell_type": "markdown",
   "metadata": {},
   "source": [
    "Ahora, vamos a eliminar el bucket que acabamos de crear.\n",
    "\n",
    "En primer lugar concedemos a `basic-role` el permiso para eliminar el bucket. "
   ]
  },
  {
   "cell_type": "code",
   "execution_count": null,
   "metadata": {},
   "outputs": [],
   "source": [
    "delete_bucket_permission = {\n",
    "    \"Version\": \"2012-10-17\",\n",
    "    \"Statement\": [\n",
    "        {\"Effect\": \"Allow\", \"Action\": [\"s3:DeleteBucket\"], \"Resource\": [\"arn:aws:s3:::*\"]}\n",
    "    ],\n",
    "}\n",
    "\n",
    "perm_res = attach_permission(\n",
    "    role_name=role_res[\"Role\"][\"RoleName\"],\n",
    "    policy_name=\"DeleteBucket\",\n",
    "    policy_doc=delete_bucket_permission,\n",
    ")"
   ]
  },
  {
   "cell_type": "markdown",
   "metadata": {},
   "source": [
    "Observamos la respuesta"
   ]
  },
  {
   "cell_type": "code",
   "execution_count": null,
   "metadata": {},
   "outputs": [],
   "source": [
    "res = s3.delete_bucket(Bucket=bucket_name)\n",
    "pp.pprint(res)"
   ]
  },
  {
   "cell_type": "markdown",
   "metadata": {},
   "source": [
    "## Políticas gestionadas por AWS\n",
    "\n",
    "Hasta ahora hemos aprendido a crear un rol de IAM y a concederle permisos sobre recursos de AWS a través de las políticas de IAM. El ejemplo que has visto arriba hemos utilizado buckets de S3 como servicio de ejemplo, pero la misma idea se puede generalizar cuando necesites definir políticas más complicadas en más servicios. \n",
    "\n",
    "No siempre es necesario definir tus propias políticas. Amazon gestiona una lista de políticas de uso común. Puedes verlas a través de la [consola](https://console.aws.amazon.com/iam/home?region=us-west-2#/policies) o dentro de este notebook llamando a la API `ListPolicies` del servicio IAM."
   ]
  },
  {
   "cell_type": "markdown",
   "metadata": {},
   "source": [
    "Listamos alguna las políticas relacionadas con S3 gestionadas por AWS (recuerda que la salida nos llega paginada)"
   ]
  },
  {
   "cell_type": "code",
   "execution_count": null,
   "metadata": {},
   "outputs": [],
   "source": [
    "for p in iam.list_policies(Scope=\"AWS\")[\"Policies\"]:\n",
    "    if \"S3\" in p[\"PolicyName\"]:\n",
    "        pp.pprint(p)\n",
    "        print(\"=\" * 80)"
   ]
  },
  {
   "cell_type": "markdown",
   "metadata": {},
   "source": [
    "Una política de S3 mantenida por Amazon se llama `AmazonS3FullAccess`. Como es de esperar, esta política otorga permisos para realizar todas las acciones posibles sobre recursos S3. \n",
    "Análogamente, la política `AmazonEC2FullAccess` otorga el rol para realizar todas las acciones en sus recursos EC2.\n",
    "`AmazonSageMakerFullAccess` proporciona acceso completo a Amazon SageMaker a través de la consola de administración de AWS y el SDK. También proporciona acceso a los servicios relacionados.\n",
    "\n",
    "Las políticas están versionadas. Esto permite de ajustar iterativamente los permisos a un rol de ejecución sin cambiar el nombre de la política. "
   ]
  },
  {
   "cell_type": "markdown",
   "metadata": {},
   "source": [
    "Vamos a ver con más detalle la política `AmazonSageMakerFullAccess`"
   ]
  },
  {
   "cell_type": "code",
   "execution_count": null,
   "metadata": {},
   "outputs": [],
   "source": [
    "sagemaker_full = iam.get_policy(PolicyArn=\"arn:aws:iam::aws:policy/AmazonSageMakerFullAccess\")"
   ]
  },
  {
   "cell_type": "code",
   "execution_count": null,
   "metadata": {},
   "outputs": [],
   "source": [
    "versions = iam.list_policy_versions(PolicyArn=\"arn:aws:iam::aws:policy/AmazonSageMakerFullAccess\")\n",
    "pp.pprint(versions[\"Versions\"][0])"
   ]
  },
  {
   "cell_type": "markdown",
   "metadata": {},
   "source": [
    "Podemos ver que la última versión publicada de la política es `v19`. \n",
    "The latest version for `AmazonSageMakerFullAccess` policy is "
   ]
  },
  {
   "cell_type": "markdown",
   "metadata": {},
   "source": [
    "Podemos hacer una query para observar una versión específica de la política indicando el `VersionID`"
   ]
  },
  {
   "cell_type": "code",
   "execution_count": null,
   "metadata": {},
   "outputs": [],
   "source": [
    "pp.pprint(\n",
    "    iam.get_policy_version(\n",
    "        PolicyArn=\"arn:aws:iam::aws:policy/AmazonSageMakerFullAccess\", VersionId=\"v19\"\n",
    "    )\n",
    ")"
   ]
  },
  {
   "cell_type": "markdown",
   "metadata": {},
   "source": [
    "Como podemos ver,para la mayoría de los casos de uso de Amazon SageMaker, la política `AmazonSageMakerFullAccess` sería suficiente."
   ]
  },
  {
   "cell_type": "markdown",
   "metadata": {},
   "source": [
    "Vamos a asociar la política `AmazonSageMakerFullAccess` al rol `basic-role`"
   ]
  },
  {
   "cell_type": "code",
   "execution_count": null,
   "metadata": {},
   "outputs": [],
   "source": [
    "res = iam.attach_role_policy(\n",
    "    RoleName=role_res[\"Role\"][\"RoleName\"],\n",
    "    PolicyArn=\"arn:aws:iam::aws:policy/AmazonSageMakerFullAccess\",\n",
    ")"
   ]
  },
  {
   "cell_type": "markdown",
   "metadata": {},
   "source": [
    "Observamos la respuesta"
   ]
  },
  {
   "cell_type": "code",
   "execution_count": null,
   "metadata": {},
   "outputs": [],
   "source": [
    "pp.pprint(res)"
   ]
  },
  {
   "cell_type": "markdown",
   "metadata": {},
   "source": [
    "## Verificación de que un rol de ejecución tiene suficientes permisos"
   ]
  },
  {
   "cell_type": "markdown",
   "metadata": {},
   "source": [
    "Cuando se utiliza una política \"paragüas\" como `AmazonSageMakerFullAccess` a veces es útil comprobar que tiene suficientes permisos para incluir todas las acciones que nuestro rol de ejecución necesitará sobre los recursos de AWS. Esto se puede hacer llamando a la API `SimulatePrincipalPolicy` desde el servicio IAM.\n",
    "\n",
    "Esta API recibe a la entidad de la política (usuario o rol de IAM) y una lista de acciones, los recursos sobre los que se realizan las acciones, y nos informa si la entidad que ostenta de la política tiene el permiso para hacer dichas acciones. "
   ]
  },
  {
   "cell_type": "markdown",
   "metadata": {},
   "source": [
    "El rol de ejecución de SageMaker necesita interactuar con recursos de Elastic Container Registry (ECR). Vamos a ver lo que su rol de ejecución puede hacer sobre ECR cuando se aocia con la política `AmazonSageMakerFullAccess`. "
   ]
  },
  {
   "cell_type": "code",
   "execution_count": null,
   "metadata": {},
   "outputs": [],
   "source": [
    "sm_policy_res = iam.simulate_principal_policy(\n",
    "    PolicySourceArn=role_res[\"Role\"][\"Arn\"],  # policy carrier (my execution role)\n",
    "    ActionNames=[\"ecr:GetAuthorizationToken\"]  # I want to know if my execution role can get\n",
    "    # authorization token from my ECR\n",
    ")"
   ]
  },
  {
   "cell_type": "markdown",
   "metadata": {},
   "source": [
    "Observamos la respuesta"
   ]
  },
  {
   "cell_type": "code",
   "execution_count": null,
   "metadata": {},
   "outputs": [],
   "source": [
    "pp.pprint(sm_policy_res)"
   ]
  },
  {
   "cell_type": "markdown",
   "metadata": {},
   "source": [
    "La respuesta dice que el rol de ejecución tiene permiso para obtener el token de autorización del ECR. "
   ]
  },
  {
   "cell_type": "markdown",
   "metadata": {},
   "source": [
    "Ahora vamos a comprobar si podemos hacer cualquier tipo de acción sobre S3"
   ]
  },
  {
   "cell_type": "code",
   "execution_count": null,
   "metadata": {},
   "outputs": [],
   "source": [
    "sm_policy_res = iam.simulate_principal_policy(\n",
    "    PolicySourceArn=role_res[\"Role\"][\"Arn\"],\n",
    "    ActionNames=[\"s3:*\"]\n",
    ")"
   ]
  },
  {
   "cell_type": "markdown",
   "metadata": {},
   "source": [
    "Observamos la respuesta"
   ]
  },
  {
   "cell_type": "code",
   "execution_count": null,
   "metadata": {},
   "outputs": [],
   "source": [
    "pp.pprint(sm_policy_res)"
   ]
  },
  {
   "cell_type": "markdown",
   "metadata": {},
   "source": [
    "Esto quiere decir que el rol de ejecución no puede hacer todo sobre recursos S3."
   ]
  },
  {
   "cell_type": "markdown",
   "metadata": {},
   "source": [
    "Limitemos el alcance de las acciones y recursos de S3. Solamente queremos ejecutar las acciones:\n",
    "\n",
    "- GetObject\n",
    "- PutObject\n",
    "- DeleteObject\n",
    "- AbortMultipartUpload\n",
    "\n",
    "Y solamente sobre buckets S3 que cumplan el patrón `*sagemaker*`"
   ]
  },
  {
   "cell_type": "code",
   "execution_count": null,
   "metadata": {},
   "outputs": [],
   "source": [
    "sm_policy_res = iam.simulate_principal_policy(\n",
    "    PolicySourceArn=role_res[\"Role\"][\"Arn\"],  # policy carrier (my execution role)\n",
    "    ActionNames=[\"s3:GetObject\", \"s3:PutObject\", \"s3:DeleteObject\", \"s3:AbortMultipartUpload\"],\n",
    "    ResourceArns=[\"arn:aws:s3:::*sagemaker*\"],  # bucket names with sagemaker in it\n",
    ")"
   ]
  },
  {
   "cell_type": "markdown",
   "metadata": {},
   "source": [
    "Observamos la respuesta"
   ]
  },
  {
   "cell_type": "code",
   "execution_count": null,
   "metadata": {},
   "outputs": [],
   "source": [
    "pp.pprint(sm_policy_res)"
   ]
  },
  {
   "cell_type": "markdown",
   "metadata": {},
   "source": [
    "Esto dice que nuestro rol de ejecución puede realizar \n",
    "\n",
    "-`s3:GetObject`\n",
    "-`s3:PutObject`\n",
    "-`s3:DeleteObject`\n",
    "-`s3:AbortMultipartUpload` \n",
    "\n",
    "en nuestro bucket S3, que incluye `sagemaker` en el nombre del bucket. Echa un vistazo al documento de política `AmazonSageMakerFullAccess` para ver más detalles. "
   ]
  },
  {
   "cell_type": "markdown",
   "metadata": {},
   "source": [
    "## Clean up"
   ]
  },
  {
   "cell_type": "markdown",
   "metadata": {},
   "source": [
    "Si solo piensas utilizar el rol para ejecutar cierta aplicación una vez, entonces es una buena práctica eliminar el rol. Si planea eliminar un rol, asegúrese de **haber eliminado todas las políticas asociadas a él** y de **no tener ninguna instancia de Amazon EC2 en ejecución con el rol que va a eliminar. La eliminación de un rol o un perfil de instancia que esté asociado a una instancia en ejecución interrumpirá cualquier aplicación que se esté ejecutando en la instancia."
   ]
  },
  {
   "cell_type": "code",
   "execution_count": null,
   "metadata": {},
   "outputs": [],
   "source": [
    "# detach attached policies\n",
    "attached_policies = iam.list_attached_role_policies(RoleName=\"basic-role\")[\"AttachedPolicies\"]\n",
    "for p in attached_policies:\n",
    "    iam.detach_role_policy(RoleName=role_res[\"Role\"][\"RoleName\"], PolicyArn=p[\"PolicyArn\"])\n",
    "\n",
    "# delete the role\n",
    "res = iam.delete_role(RoleName=role_res[\"Role\"][\"RoleName\"])\n",
    "\n",
    "pp.pprint(res)"
   ]
  },
  {
   "cell_type": "code",
   "execution_count": null,
   "metadata": {},
   "outputs": [],
   "source": []
  }
 ],
 "metadata": {
  "instance_type": "ml.t3.medium",
  "kernelspec": {
   "display_name": "Python 3 (Data Science)",
   "language": "python",
   "name": "python3__SAGEMAKER_INTERNAL__arn:aws:sagemaker:us-east-1:081325390199:image/datascience-1.0"
  },
  "language_info": {
   "codemirror_mode": {
    "name": "ipython",
    "version": 3
   },
   "file_extension": ".py",
   "mimetype": "text/x-python",
   "name": "python",
   "nbconvert_exporter": "python",
   "pygments_lexer": "ipython3",
   "version": "3.7.10"
  },
  "vscode": {
   "interpreter": {
    "hash": "f9f85f796d01129d0dd105a088854619f454435301f6ffec2fea96ecbd9be4ac"
   }
  }
 },
 "nbformat": 4,
 "nbformat_minor": 4
}
