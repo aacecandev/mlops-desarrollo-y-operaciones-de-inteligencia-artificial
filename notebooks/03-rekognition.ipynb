{
 "cells": [
  {
   "cell_type": "markdown",
   "id": "6bc5644c",
   "metadata": {},
   "source": [
    "# Reconocimiento de celebridades con Amazon Rekognition"
   ]
  },
  {
   "cell_type": "markdown",
   "id": "33cbacf6",
   "metadata": {},
   "source": [
    "Este notebook ofrece un walkthrough por la API de reconocimiento de celebridades en Amazon Rekognition. Puede identificar rápidamente a personas conocidas en nuestras bibliotecas de videos e imágenes para catalogar secuencias y fotos para casos de uso en la industria del marketing, la publicidad y los medios de comunicación.\n",
    "\n",
    "    https://docs.aws.amazon.com/rekognition/latest/dg/celebrities.html\n",
    "    https://docs.aws.amazon.com/rekognition/latest/dg/API_RecognizeCelebrities.html\n",
    "    https://docs.aws.amazon.com/rekognition/latest/dg/API_StartCelebrityRecognition.html\n",
    "    https://docs.aws.amazon.com/rekognition/latest/dg/API_GetCelebrityRecognition.html"
   ]
  },
  {
   "cell_type": "markdown",
   "id": "f439f19c",
   "metadata": {},
   "source": [
    "## Check setup"
   ]
  },
  {
   "cell_type": "code",
   "execution_count": null,
   "id": "864c79f5",
   "metadata": {
    "tags": []
   },
   "outputs": [],
   "source": [
    "%store -r setup_dependencies_passed"
   ]
  },
  {
   "cell_type": "code",
   "execution_count": null,
   "id": "125ee843",
   "metadata": {
    "tags": []
   },
   "outputs": [],
   "source": [
    "try:\n",
    "    setup_dependencies_passed\n",
    "except NameError:\n",
    "    print(\"++++++++++++++++++++++++++++++++++++++++++++++\")\n",
    "    print(\"[ERROR] YOU HAVE TO RUN THE PREVIOUS NOTEBOOK \")\n",
    "    print(\"You did not install the required libraries.   \")\n",
    "    print(\"++++++++++++++++++++++++++++++++++++++++++++++\")"
   ]
  },
  {
   "cell_type": "code",
   "execution_count": null,
   "id": "da1b0d6d",
   "metadata": {
    "tags": []
   },
   "outputs": [],
   "source": [
    "\n",
    "\n",
    "print(setup_dependencies_passed)\n",
    "\n"
   ]
  },
  {
   "cell_type": "code",
   "execution_count": null,
   "id": "aeca8c66",
   "metadata": {
    "tags": []
   },
   "outputs": [],
   "source": [
    "if not setup_dependencies_passed:\n",
    "    print(\"++++++++++++++++++++++++++++++++++++++++++++++\")\n",
    "    print(\"[ERROR] YOU HAVE TO RUN THE PREVIOUS NOTEBOOK \")\n",
    "    print(\"You did not install the required libraries.   \")\n",
    "    print(\"++++++++++++++++++++++++++++++++++++++++++++++\")\n",
    "else:\n",
    "    print(\"[OK]\")"
   ]
  },
  {
   "cell_type": "markdown",
   "id": "c3e3f302",
   "metadata": {},
   "source": [
    "## Setup notebook"
   ]
  },
  {
   "cell_type": "code",
   "execution_count": null,
   "id": "e6dfbe6e",
   "metadata": {
    "tags": []
   },
   "outputs": [],
   "source": [
    "import boto3\n",
    "from IPython.display import HTML, display, Image as IImage\n",
    "from PIL import Image, ImageDraw, ImageFont\n",
    "import time\n",
    "import os\n",
    "import sagemaker\n",
    "import boto3"
   ]
  },
  {
   "cell_type": "code",
   "execution_count": null,
   "id": "e74e9b12",
   "metadata": {
    "tags": []
   },
   "outputs": [],
   "source": [
    "sagemaker_session = sagemaker.Session()\n",
    "role = sagemaker.get_execution_role()\n",
    "bucket = sagemaker_session.default_bucket()\n",
    "region = boto3.Session().region_name\n",
    "rekognition = boto3.client(\"rekognition\")\n",
    "s3 = boto3.client(\"s3\")"
   ]
  },
  {
   "cell_type": "markdown",
   "id": "44e00fd2",
   "metadata": {},
   "source": [
    "## Obtenemos la imagen y la subimos a S3"
   ]
  },
  {
   "cell_type": "code",
   "execution_count": null,
   "id": "4d2d1167",
   "metadata": {
    "tags": []
   },
   "outputs": [],
   "source": [
    "!mkdir -p ./tmp\n",
    "!curl -s -o ./tmp/gerard-pique.png \"https://www.lecturas.com/medio/2022/11/06/gerard-pique-llorando_611ca467_1280x720.jpg\""
   ]
  },
  {
   "cell_type": "code",
   "execution_count": null,
   "id": "0217dcd2",
   "metadata": {
    "tags": []
   },
   "outputs": [],
   "source": [
    "temp_folder = \"tmp/\"\n",
    "image_name = \"gerard-pique.png\""
   ]
  },
  {
   "cell_type": "code",
   "execution_count": null,
   "id": "6d2428b5",
   "metadata": {
    "tags": []
   },
   "outputs": [],
   "source": [
    "s3.upload_file(\n",
    "    f\"./tmp/{image_name}\",\n",
    "    bucket,\n",
    "    image_name\n",
    ")"
   ]
  },
  {
   "cell_type": "code",
   "execution_count": null,
   "id": "4e67cb45",
   "metadata": {
    "tags": []
   },
   "outputs": [],
   "source": [
    "display(IImage(url=s3.generate_presigned_url(\"get_object\", Params={\"Bucket\": bucket, \"Key\": image_name})))"
   ]
  },
  {
   "cell_type": "markdown",
   "id": "206e8574",
   "metadata": {},
   "source": [
    "## Llamar a Amazon Rekognition para reconocer a los famosos en la imagen"
   ]
  },
  {
   "cell_type": "markdown",
   "id": "e22a381a",
   "metadata": {},
   "source": [
    "https://docs.aws.amazon.com/rekognition/latest/dg/API_RecognizeCelebrities.html"
   ]
  },
  {
   "cell_type": "code",
   "execution_count": null,
   "id": "4202a10e",
   "metadata": {
    "tags": []
   },
   "outputs": [],
   "source": [
    "recognizeCelebritiesResponse = rekognition.recognize_celebrities(\n",
    "    Image={\n",
    "        \"S3Object\": {\n",
    "            \"Bucket\": bucket,\n",
    "            \"Name\": image_name,\n",
    "        }\n",
    "    }\n",
    ")"
   ]
  },
  {
   "cell_type": "code",
   "execution_count": null,
   "id": "0503f206",
   "metadata": {
    "tags": []
   },
   "outputs": [],
   "source": [
    "def drawBoundingBoxes(sourceImage, boxes):\n",
    "    # blue, green, red, grey\n",
    "    colors = ((255, 255, 255), (255, 255, 255), (76, 182, 252), (52, 194, 123))\n",
    "\n",
    "    # Download image locally\n",
    "    imageLocation = temp_folder + os.path.basename(sourceImage)\n",
    "    s3.download_file(bucket, sourceImage, imageLocation)\n",
    "\n",
    "    # Draws BB on Image\n",
    "    bbImage = Image.open(imageLocation)\n",
    "    draw = ImageDraw.Draw(bbImage)\n",
    "    width, height = bbImage.size\n",
    "    col = 0\n",
    "    maxcol = len(colors)\n",
    "    line = 3\n",
    "    for box in boxes:\n",
    "        x1 = int(box[1][\"Left\"] * width)\n",
    "        y1 = int(box[1][\"Top\"] * height)\n",
    "        x2 = int(box[1][\"Left\"] * width + box[1][\"Width\"] * width)\n",
    "        y2 = int(box[1][\"Top\"] * height + box[1][\"Height\"] * height)\n",
    "\n",
    "        draw.text((x1, y1), box[0], colors[col])\n",
    "        for l in range(line):\n",
    "            draw.rectangle((x1 - l, y1 - l, x2 + l, y2 + l), outline=colors[col])\n",
    "        col = (col + 1) % maxcol\n",
    "\n",
    "    imageFormat = \"PNG\"\n",
    "    ext = sourceImage.lower()\n",
    "    if ext.endswith(\"jpg\") or ext.endswith(\"jpeg\"):\n",
    "        imageFormat = \"JPEG\"\n",
    "\n",
    "    bbImage.save(imageLocation, format=imageFormat)\n",
    "\n",
    "    display(bbImage)"
   ]
  },
  {
   "cell_type": "markdown",
   "id": "bd1c91d4",
   "metadata": {},
   "source": [
    "## Revisar la respuesta JSON devuelta por la API de reconocimiento de celebridades de Rekognition"
   ]
  },
  {
   "cell_type": "code",
   "execution_count": null,
   "id": "d790a7d4",
   "metadata": {
    "tags": []
   },
   "outputs": [],
   "source": [
    "display(recognizeCelebritiesResponse)"
   ]
  },
  {
   "cell_type": "markdown",
   "id": "55e1fc6a",
   "metadata": {},
   "source": [
    "## Mostrar imagen con cuadros delimitadores alrededor de las celebridades reconocidas"
   ]
  },
  {
   "cell_type": "code",
   "execution_count": null,
   "id": "1e867e28",
   "metadata": {
    "tags": []
   },
   "outputs": [],
   "source": [
    "boxes = []\n",
    "celebrities = recognizeCelebritiesResponse[\"CelebrityFaces\"]\n",
    "for celebrity in celebrities:\n",
    "    boxes.append((celebrity[\"Name\"], celebrity[\"Face\"][\"BoundingBox\"]))\n",
    "\n",
    "drawBoundingBoxes(image_name, boxes)"
   ]
  },
  {
   "cell_type": "markdown",
   "id": "f5967159",
   "metadata": {},
   "source": [
    "## Liberar recursos"
   ]
  },
  {
   "cell_type": "code",
   "execution_count": null,
   "id": "c02ef045",
   "metadata": {
    "tags": []
   },
   "outputs": [],
   "source": [
    "%%javascript\n",
    "\n",
    "try {\n",
    "    Jupyter.notebook.save_checkpoint();\n",
    "    Jupyter.notebook.session.delete();\n",
    "}\n",
    "catch(err) {\n",
    "    // NoOp\n",
    "}"
   ]
  },
  {
   "cell_type": "code",
   "execution_count": null,
   "id": "d6c625a4",
   "metadata": {
    "tags": []
   },
   "outputs": [],
   "source": [
    "%%html\n",
    "\n",
    "<p><b>Shutting down your kernel for this notebook to release resources.b>p>\n",
    "<button class=\"sm-command-button\" data-commandlinker-command=\"kernelmenu:shutdown\" style=\"display:none;\">Shutdown Kernelbutton>\n",
    "        \n",
    "<script>\n",
    "try {\n",
    "    els = document.getElementsByClassName(\"sm-command-button\");\n",
    "    els[0].click();\n",
    "}\n",
    "catch(err) {\n",
    "    // NoOp\n",
    "}    \n",
    "script>\n"
   ]
  },
  {
   "cell_type": "code",
   "execution_count": null,
   "id": "3c3dd16a-6a97-4584-a009-a14934d04f04",
   "metadata": {},
   "outputs": [],
   "source": []
  }
 ],
 "metadata": {
  "instance_type": "ml.t3.medium",
  "kernelspec": {
   "display_name": "Python 3 (Data Science)",
   "language": "python",
   "name": "python3__SAGEMAKER_INTERNAL__arn:aws:sagemaker:us-east-1:081325390199:image/datascience-1.0"
  },
  "language_info": {
   "codemirror_mode": {
    "name": "ipython",
    "version": 3
   },
   "file_extension": ".py",
   "mimetype": "text/x-python",
   "name": "python",
   "nbconvert_exporter": "python",
   "pygments_lexer": "ipython3",
   "version": "3.7.10"
  }
 },
 "nbformat": 4,
 "nbformat_minor": 5
}
