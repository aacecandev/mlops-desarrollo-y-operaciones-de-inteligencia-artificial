{
 "cells": [
  {
   "cell_type": "markdown",
   "id": "5a71ef0d",
   "metadata": {},
   "source": [
    "# Setup"
   ]
  },
  {
   "cell_type": "markdown",
   "id": "aca82033",
   "metadata": {},
   "source": [
    "Este notebook nos va a servir como baseline para el resto de los notebooks sobre los que trabajaremos durante el módulo.\n",
    "\n",
    "Está pensado como un punto de partida para poder instalar las librerías necesarias para poder trabajar con los notebooks que se irán desarrollando a lo largo del módulo."
   ]
  },
  {
   "cell_type": "code",
   "execution_count": 72,
   "metadata": {
    "execution": {
     "iopub.execute_input": "2022-11-07T13:36:28.472517Z",
     "iopub.status.busy": "2022-11-07T13:36:28.471347Z",
     "iopub.status.idle": "2022-11-07T13:36:28.488522Z",
     "shell.execute_reply": "2022-11-07T13:36:28.485560Z",
     "shell.execute_reply.started": "2022-11-07T13:36:28.472475Z"
    },
    "tags": []
   },
   "outputs": [
    {
     "name": "stdout",
     "output_type": "stream",
     "text": [
      "/home/ec2-user/SageMaker/envs/curso/bin/python\n"
     ]
    }
   ],
   "source": [
    "import sys\n",
    "\n",
    "print(sys.executable)"
   ]
  },
  {
   "cell_type": "code",
   "execution_count": 13,
   "metadata": {
    "execution": {
     "iopub.execute_input": "2022-11-07T13:36:29.162583Z",
     "iopub.status.busy": "2022-11-07T13:36:29.161848Z",
     "iopub.status.idle": "2022-11-07T13:36:33.466889Z",
     "shell.execute_reply": "2022-11-07T13:36:33.466015Z",
     "shell.execute_reply.started": "2022-11-07T13:36:29.162542Z"
    },
    "tags": []
   },
   "outputs": [
    {
     "name": "stdout",
     "output_type": "stream",
     "text": [
      "\u001b[33mWARNING: Running pip as the 'root' user can result in broken permissions and conflicting behaviour with the system package manager. It is recommended to use a virtual environment instead: https://pip.pypa.io/warnings/venv\u001b[0m\u001b[33m\n",
      "\u001b[0m\u001b[33mWARNING: Running pip as the 'root' user can result in broken permissions and conflicting behaviour with the system package manager. It is recommended to use a virtual environment instead: https://pip.pypa.io/warnings/venv\u001b[0m\u001b[33m\n",
      "\u001b[0m"
     ]
    }
   ],
   "source": [
    "!python -m pip install --disable-pip-version-check -q pip --upgrade > /dev/null\n",
    "!python -m pip install --disable-pip-version-check -q wrapt --upgrade > /dev/null"
   ]
  },
  {
   "cell_type": "code",
   "execution_count": 2,
   "metadata": {
    "execution": {
     "iopub.execute_input": "2022-11-07T19:28:39.309970Z",
     "iopub.status.busy": "2022-11-07T19:28:39.309701Z",
     "iopub.status.idle": "2022-11-07T19:28:45.749534Z",
     "shell.execute_reply": "2022-11-07T19:28:45.748712Z",
     "shell.execute_reply.started": "2022-11-07T19:28:39.309949Z"
    },
    "tags": []
   },
   "outputs": [
    {
     "name": "stdout",
     "output_type": "stream",
     "text": [
      "\u001b[33mWARNING: Running pip as the 'root' user can result in broken permissions and conflicting behaviour with the system package manager. It is recommended to use a virtual environment instead: https://pip.pypa.io/warnings/venv\u001b[0m\u001b[33m\n",
      "\u001b[0m"
     ]
    }
   ],
   "source": [
    "!python -m pip install \\\n",
    "    --disable-pip-version-check \\\n",
    "    --quiet \\\n",
    "    --extra-index-url https://download.pytorch.org/whl/cpu \\\n",
    "    awscli \\\n",
    "    awswrangler \\\n",
    "    boto3 \\\n",
    "    botocore \\\n",
    "    tabulate \\\n",
    "    matplotlib==3.5.3 \\\n",
    "    psycopg2-binary==2.9.5 \\\n",
    "    PyAthena==2.14.0 \\\n",
    "    sagemaker-experiments==0.1.39 \\\n",
    "    sagemaker==2.116.0 \\\n",
    "    seaborn==0.12.1 \\\n",
    "    scikit-learn==1.0.2 \\\n",
    "    smdebug==1.0.12 \\\n",
    "    SQLAlchemy==1.4.43 \\\n",
    "    stepfunctions==2.3.0 \\\n",
    "    tensorflow==2.9.2 \\\n",
    "    torch==1.13.0 \\\n",
    "    torch-model-archiver==0.6.0 \\\n",
    "    torchaudio==0.13.0 \\\n",
    "    torchserve==0.6.0 \\\n",
    "    torchvision==0.14.0 \\\n",
    "    transformers==4.24.0"
   ]
  },
  {
   "cell_type": "code",
   "execution_count": 15,
   "metadata": {
    "execution": {
     "iopub.execute_input": "2022-11-07T13:36:35.992383Z",
     "iopub.status.busy": "2022-11-07T13:36:35.992042Z",
     "iopub.status.idle": "2022-11-07T13:36:52.174262Z",
     "shell.execute_reply": "2022-11-07T13:36:52.173525Z",
     "shell.execute_reply.started": "2022-11-07T13:36:35.992346Z"
    },
    "tags": []
   },
   "outputs": [
    {
     "name": "stdout",
     "output_type": "stream",
     "text": [
      "Collecting package metadata (current_repodata.json): ...working... done\n",
      "Solving environment: ...working... done\n",
      "\n",
      "## Package Plan ##\n",
      "\n",
      "  environment location: /opt/conda\n",
      "\n",
      "  added / updated specs:\n",
      "    - zip\n",
      "\n",
      "\n",
      "The following packages will be downloaded:\n",
      "\n",
      "    package                    |            build\n",
      "    ---------------------------|-----------------\n",
      "    ca-certificates-2022.10.11 |       h06a4308_0         124 KB\n",
      "    certifi-2022.9.24          |   py37h06a4308_0         154 KB\n",
      "    conda-22.9.0               |   py37h06a4308_0         878 KB\n",
      "    openssl-1.1.1s             |       h7f8727e_0         3.6 MB\n",
      "    zip-3.0                    |       h7f8727e_1         111 KB\n",
      "    ------------------------------------------------------------\n",
      "                                           Total:         4.8 MB\n",
      "\n",
      "The following NEW packages will be INSTALLED:\n",
      "\n",
      "  zip                pkgs/main/linux-64::zip-3.0-h7f8727e_1\n",
      "\n",
      "The following packages will be UPDATED:\n",
      "\n",
      "  ca-certificates    conda-forge::ca-certificates-2022.6.1~ --> pkgs/main::ca-certificates-2022.10.11-h06a4308_0\n",
      "  certifi            conda-forge/noarch::certifi-2022.6.15~ --> pkgs/main/linux-64::certifi-2022.9.24-py37h06a4308_0\n",
      "  conda              conda-forge::conda-4.14.0-py37h89c186~ --> pkgs/main::conda-22.9.0-py37h06a4308_0\n",
      "  openssl                                 1.1.1q-h7f8727e_0 --> 1.1.1s-h7f8727e_0\n",
      "\n",
      "\n",
      "Preparing transaction: ...working... done\n",
      "Verifying transaction: ...working... done\n",
      "Executing transaction: ...working... done\n",
      "Retrieving notices: ...working... done\n"
     ]
    }
   ],
   "source": [
    "!conda install --quiet --yes zip"
   ]
  },
  {
   "cell_type": "code",
   "execution_count": 16,
   "metadata": {
    "execution": {
     "iopub.execute_input": "2022-11-07T13:36:52.176566Z",
     "iopub.status.busy": "2022-11-07T13:36:52.176307Z",
     "iopub.status.idle": "2022-11-07T13:36:52.180305Z",
     "shell.execute_reply": "2022-11-07T13:36:52.179451Z",
     "shell.execute_reply.started": "2022-11-07T13:36:52.176542Z"
    },
    "tags": []
   },
   "outputs": [],
   "source": [
    "setup_dependencies_passed = True"
   ]
  },
  {
   "cell_type": "markdown",
   "metadata": {},
   "source": [
    "## boto3, primera aproximación"
   ]
  },
  {
   "cell_type": "markdown",
   "metadata": {
    "execution": {
     "iopub.execute_input": "2022-11-07T13:02:58.326627Z",
     "iopub.status.busy": "2022-11-07T13:02:58.326316Z",
     "iopub.status.idle": "2022-11-07T13:02:58.336511Z",
     "shell.execute_reply": "2022-11-07T13:02:58.334883Z",
     "shell.execute_reply.started": "2022-11-07T13:02:58.326602Z"
    }
   },
   "source": [
    "https://boto3.amazonaws.com/v1/documentation/api/latest/index.html"
   ]
  },
  {
   "cell_type": "markdown",
   "metadata": {},
   "source": [
    "### Control de errores"
   ]
  },
  {
   "cell_type": "markdown",
   "metadata": {},
   "source": [
    "https://docs.python.org/3/tutorial/errors.html\n",
    "\n",
    "https://boto3.amazonaws.com/v1/documentation/api/latest/guide/error-handling.html"
   ]
  },
  {
   "cell_type": "code",
   "execution_count": 17,
   "metadata": {
    "execution": {
     "iopub.execute_input": "2022-11-07T13:36:57.952968Z",
     "iopub.status.busy": "2022-11-07T13:36:57.952321Z",
     "iopub.status.idle": "2022-11-07T13:36:57.959452Z",
     "shell.execute_reply": "2022-11-07T13:36:57.958503Z",
     "shell.execute_reply.started": "2022-11-07T13:36:57.952915Z"
    },
    "tags": []
   },
   "outputs": [
    {
     "name": "stdout",
     "output_type": "stream",
     "text": [
      "AliasConflictParameterError\n",
      "ApiVersionNotFoundError\n",
      "AwsChunkedWrapperError\n",
      "BaseEndpointResolverError\n",
      "BotoCoreError\n",
      "CapacityNotAvailableError\n",
      "ChecksumError\n",
      "ClientError\n",
      "ConfigNotFound\n",
      "ConfigParseError\n",
      "ConnectTimeoutError\n",
      "ConnectionClosedError\n",
      "ConnectionError\n",
      "CredentialRetrievalError\n",
      "DataNotFoundError\n",
      "EndpointConnectionError\n",
      "EndpointProviderError\n",
      "EndpointResolutionError\n",
      "EndpointVariantError\n",
      "EventStreamError\n",
      "FlexibleChecksumError\n",
      "HTTPClientError\n",
      "ImminentRemovalWarning\n",
      "IncompleteReadError\n",
      "InfiniteLoopConfigError\n",
      "InvalidConfigError\n",
      "InvalidDNSNameError\n",
      "InvalidDefaultsMode\n",
      "InvalidEndpointConfigurationError\n",
      "InvalidEndpointDiscoveryConfigurationError\n",
      "InvalidExpressionError\n",
      "InvalidHostLabelError\n",
      "InvalidIMDSEndpointError\n",
      "InvalidIMDSEndpointModeError\n",
      "InvalidMaxRetryAttemptsError\n",
      "InvalidProxiesConfigError\n",
      "InvalidRegionError\n",
      "InvalidRetryConfigurationError\n",
      "InvalidRetryModeError\n",
      "InvalidS3AddressingStyleError\n",
      "InvalidS3UsEast1RegionalEndpointConfigError\n",
      "InvalidSTSRegionalEndpointsConfigError\n",
      "MD5UnavailableError\n",
      "MetadataRetrievalError\n",
      "MissingDependencyException\n",
      "MissingParametersError\n",
      "MissingServiceIdError\n",
      "NoAuthTokenError\n",
      "NoCredentialsError\n",
      "NoRegionError\n",
      "OperationNotPageableError\n",
      "PaginationError\n",
      "ParamValidationError\n",
      "PartialCredentialsError\n",
      "ProfileNotFound\n",
      "ProxyConnectionError\n",
      "RangeError\n",
      "ReadTimeoutError\n",
      "RefreshWithMFAUnsupportedError\n",
      "ResponseStreamingError\n",
      "SSLError\n",
      "SSOError\n",
      "SSOTokenLoadError\n",
      "ServiceNotInRegionError\n",
      "StubAssertionError\n",
      "StubResponseError\n",
      "TokenRetrievalError\n",
      "UnStubbedResponseError\n",
      "UnauthorizedSSOTokenError\n",
      "UndefinedModelAttributeError\n",
      "UnknownClientMethodError\n",
      "UnknownCredentialError\n",
      "UnknownEndpointError\n",
      "UnknownEndpointResolutionBuiltInName\n",
      "UnknownFIPSEndpointError\n",
      "UnknownKeyError\n",
      "UnknownParameterError\n",
      "UnknownRegionError\n",
      "UnknownServiceError\n",
      "UnknownServiceStyle\n",
      "UnknownSignatureVersionError\n",
      "UnseekableStreamError\n",
      "UnsupportedOutpostResourceError\n",
      "UnsupportedS3AccesspointConfigurationError\n",
      "UnsupportedS3ArnError\n",
      "UnsupportedS3ConfigurationError\n",
      "UnsupportedS3ControlArnError\n",
      "UnsupportedS3ControlConfigurationError\n",
      "UnsupportedSignatureVersionError\n",
      "UnsupportedTLSVersionWarning\n",
      "ValidationError\n",
      "WaiterConfigError\n",
      "WaiterError\n"
     ]
    }
   ],
   "source": [
    "import botocore.exceptions\n",
    "\n",
    "for key, value in sorted(botocore.exceptions.__dict__.items()):\n",
    "    if isinstance(value, type):\n",
    "        print(key)"
   ]
  },
  {
   "cell_type": "markdown",
   "metadata": {},
   "source": [
    "### Estableciendo permisos"
   ]
  },
  {
   "cell_type": "code",
   "execution_count": 19,
   "metadata": {
    "execution": {
     "iopub.execute_input": "2022-11-07T13:37:02.146581Z",
     "iopub.status.busy": "2022-11-07T13:37:02.145842Z",
     "iopub.status.idle": "2022-11-07T13:37:02.305778Z",
     "shell.execute_reply": "2022-11-07T13:37:02.304686Z",
     "shell.execute_reply.started": "2022-11-07T13:37:02.146538Z"
    },
    "tags": []
   },
   "outputs": [
    {
     "name": "stdout",
     "output_type": "stream",
     "text": [
      "Role ARN: arn:aws:iam::688013747199:role/sagemaker-vanilla-SageMakerExecutionRole-A9Y6X9M9UTWM\n",
      "Role name: sagemaker-vanilla-SageMakerExecutionRole-A9Y6X9M9UTWM\n"
     ]
    }
   ],
   "source": [
    "import boto3\n",
    "import sagemaker\n",
    "from botocore.config import Config\n",
    "\n",
    "config = Config(retries={\"max_attempts\": 10, \"mode\": \"adaptive\"})\n",
    "iam = boto3.client(\"iam\", config=config)\n",
    "\n",
    "admin = False\n",
    "\n",
    "role_arn = sagemaker.get_execution_role()\n",
    "print(f\"Role ARN: {role_arn}\")\n",
    "\n",
    "role_name = role_arn.split(\"/\")[-1]\n",
    "print(f\"Role name: {role_name}\")"
   ]
  },
  {
   "cell_type": "code",
   "execution_count": 23,
   "metadata": {
    "execution": {
     "iopub.execute_input": "2022-11-07T13:37:03.677105Z",
     "iopub.status.busy": "2022-11-07T13:37:03.675752Z",
     "iopub.status.idle": "2022-11-07T13:37:03.692663Z",
     "shell.execute_reply": "2022-11-07T13:37:03.690868Z",
     "shell.execute_reply.started": "2022-11-07T13:37:03.677058Z"
    },
    "tags": []
   },
   "outputs": [],
   "source": [
    "required_policies = [\n",
    "    \"AdministratorAccess\",\n",
    "    \"IAMFullAccess\",\n",
    "#     \"SecretsManagerReadWrite\",\n",
    "#     \"AmazonS3FullAccess\",\n",
    "#     \"AmazonAthenaFullAccess\",\n",
    "#     \"ComprehendFullAccess\",\n",
    "#     \"AmazonEC2ContainerRegistryFullAccess\",\n",
    "#     \"AmazonRedshiftFullAccess\",\n",
    "#     \"AWSStepFunctionsFullAccess\",\n",
    "#     \"AmazonSageMakerFullAccess\",\n",
    "#     \"AmazonKinesisFullAccess\",\n",
    "#     \"AmazonKinesisFirehoseFullAccess\",\n",
    "#     \"AmazonKinesisAnalyticsFullAccess\",\n",
    "]"
   ]
  },
  {
   "cell_type": "markdown",
   "metadata": {
    "execution": {
     "iopub.execute_input": "2022-11-07T13:21:59.624539Z",
     "iopub.status.busy": "2022-11-07T13:21:59.624232Z",
     "iopub.status.idle": "2022-11-07T13:21:59.632419Z",
     "shell.execute_reply": "2022-11-07T13:21:59.631146Z",
     "shell.execute_reply.started": "2022-11-07T13:21:59.624513Z"
    }
   },
   "source": [
    "Vamos a obtener la diferencia entre los dos set de Python, de tal forma que tengamos una lista de aquellas policies requeridas que no estén actualmente\n",
    "asociadas a nuestro rol de SageMaker. Para ver este fragmento de código, podemos descomentar cualquiera de las policies de arriba y ejecutar los siguiente"
   ]
  },
  {
   "cell_type": "code",
   "execution_count": 24,
   "metadata": {
    "execution": {
     "iopub.execute_input": "2022-11-07T13:37:05.197649Z",
     "iopub.status.busy": "2022-11-07T13:37:05.196664Z",
     "iopub.status.idle": "2022-11-07T13:37:05.206925Z",
     "shell.execute_reply": "2022-11-07T13:37:05.203606Z",
     "shell.execute_reply.started": "2022-11-07T13:37:05.197614Z"
    },
    "tags": []
   },
   "outputs": [
    {
     "name": "stdout",
     "output_type": "stream",
     "text": [
      "['IAMFullAccess']\n"
     ]
    }
   ],
   "source": [
    "current_policies = [\"AdministratorAccess\"]\n",
    "print(list(set(required_policies).difference(current_policies)))"
   ]
  },
  {
   "cell_type": "markdown",
   "metadata": {},
   "source": [
    "Es importante tener en cuenta que para poder trabajar con IAM, nuestro rol tiene que tener asociada previamente la policy \"IAMFullAccess\". Así mismo,\n",
    "hay que ser conscientes de que esto es un curso, y que en un entorno productivo tenemos que seguir el principio del mínimo privilegio."
   ]
  },
  {
   "cell_type": "code",
   "execution_count": 27,
   "metadata": {
    "execution": {
     "iopub.execute_input": "2022-11-07T13:37:13.842837Z",
     "iopub.status.busy": "2022-11-07T13:37:13.842564Z",
     "iopub.status.idle": "2022-11-07T13:37:13.941844Z",
     "shell.execute_reply": "2022-11-07T13:37:13.941017Z",
     "shell.execute_reply.started": "2022-11-07T13:37:13.842815Z"
    },
    "tags": []
   },
   "outputs": [
    {
     "name": "stdout",
     "output_type": "stream",
     "text": [
      "Policy AdministratorAccess has been succesfully attached to role: sagemaker-vanilla-SageMakerExecutionRole-A9Y6X9M9UTWM\n"
     ]
    }
   ],
   "source": [
    "try:\n",
    "    current_policies = [policy['PolicyName'] for policy in iam.list_attached_role_policies(RoleName=role_name)[\"AttachedPolicies\"]]\n",
    "\n",
    "    for policy in list(set(required_policies).difference(current_policies)):\n",
    "        response = iam.attach_role_policy(\n",
    "            PolicyArn=f\"arn:aws:iam::aws:policy/{policy}\",RoleName=role_name\n",
    "        )\n",
    "        print(\"Policy {} has been succesfully attached to role: {}\".format(policy, role_name))\n",
    "    setup_iam_roles_passed = True\n",
    "\n",
    "except botocore.exceptions.ClientError as error:\n",
    "    print(f\"\"\"\n",
    "        **[ERROR]\n",
    "        SageMakerExecutionRole needs the AdministratorAccess or IAMFullAccess policy attached.\n",
    "        **\"\n",
    "    \"\"\")\n",
    "    raise error\n",
    "\n",
    "except Exception as error:\n",
    "    raise error"
   ]
  },
  {
   "cell_type": "markdown",
   "metadata": {},
   "source": [
    "## Guardando variables en el store de Jupyter"
   ]
  },
  {
   "cell_type": "markdown",
   "metadata": {},
   "source": [
    "Con este paso nos aseguramos de que si alguien ejecuta nuestro notebook, tenga un entorno seguro\n",
    "\n",
    "[Documentación sobre storemagic](https://ipython.readthedocs.io/en/stable/config/extensions/storemagic.html)"
   ]
  },
  {
   "cell_type": "code",
   "execution_count": 28,
   "metadata": {
    "execution": {
     "iopub.execute_input": "2022-11-07T13:37:26.749155Z",
     "iopub.status.busy": "2022-11-07T13:37:26.748639Z",
     "iopub.status.idle": "2022-11-07T13:37:26.762229Z",
     "shell.execute_reply": "2022-11-07T13:37:26.761657Z",
     "shell.execute_reply.started": "2022-11-07T13:37:26.749114Z"
    },
    "tags": []
   },
   "outputs": [
    {
     "name": "stdout",
     "output_type": "stream",
     "text": [
      "Stored 'setup_dependencies_passed' (bool)\n",
      "Stored 'setup_iam_roles_passed' (bool)\n",
      "Stored 'role_arn' (str)\n",
      "Stored 'role_name' (str)\n"
     ]
    }
   ],
   "source": [
    "%store setup_dependencies_passed\n",
    "%store setup_iam_roles_passed\n",
    "%store role_arn\n",
    "%store role_name"
   ]
  },
  {
   "cell_type": "code",
   "execution_count": 29,
   "metadata": {
    "execution": {
     "iopub.execute_input": "2022-11-07T13:37:26.764077Z",
     "iopub.status.busy": "2022-11-07T13:37:26.763519Z",
     "iopub.status.idle": "2022-11-07T13:37:26.769485Z",
     "shell.execute_reply": "2022-11-07T13:37:26.768658Z",
     "shell.execute_reply.started": "2022-11-07T13:37:26.764049Z"
    },
    "tags": []
   },
   "outputs": [
    {
     "name": "stdout",
     "output_type": "stream",
     "text": [
      "Stored variables and their in-db values:\n",
      "role_arn                              -> 'arn:aws:iam::688013747199:role/sagemaker-vanilla-\n",
      "role_name                             -> 'sagemaker-vanilla-SageMakerExecutionRole-A9Y6X9M9\n",
      "setup_dependencies_passed             -> True\n",
      "setup_iam_roles_passed                -> True\n"
     ]
    }
   ],
   "source": [
    "%store"
   ]
  },
  {
   "cell_type": "markdown",
   "metadata": {},
   "source": [
    "## Liberando recursos AWS"
   ]
  },
  {
   "cell_type": "code",
   "execution_count": 30,
   "metadata": {
    "execution": {
     "iopub.execute_input": "2022-11-07T13:37:36.737434Z",
     "iopub.status.busy": "2022-11-07T13:37:36.737009Z",
     "iopub.status.idle": "2022-11-07T13:37:36.749361Z",
     "shell.execute_reply": "2022-11-07T13:37:36.748302Z",
     "shell.execute_reply.started": "2022-11-07T13:37:36.737408Z"
    },
    "tags": []
   },
   "outputs": [
    {
     "data": {
      "application/javascript": "\ntry {\n    Jupyter.notebook.save_checkpoint();\n    Jupyter.notebook.session.delete();\n}\ncatch(err) {\n    // NoOp\n}\n",
      "text/plain": [
       "<IPython.core.display.Javascript object>"
      ]
     },
     "metadata": {},
     "output_type": "display_data"
    }
   ],
   "source": [
    "%%javascript\n",
    "\n",
    "try {\n",
    "    Jupyter.notebook.save_checkpoint();\n",
    "    Jupyter.notebook.session.delete();\n",
    "}\n",
    "catch(err) {\n",
    "    // NoOp\n",
    "}"
   ]
  },
  {
   "cell_type": "code",
   "execution_count": 31,
   "metadata": {
    "execution": {
     "iopub.execute_input": "2022-11-07T13:37:37.496632Z",
     "iopub.status.busy": "2022-11-07T13:37:37.495786Z",
     "iopub.status.idle": "2022-11-07T13:37:37.520189Z",
     "shell.execute_reply": "2022-11-07T13:37:37.517037Z",
     "shell.execute_reply.started": "2022-11-07T13:37:37.496594Z"
    },
    "tags": []
   },
   "outputs": [
    {
     "data": {
      "text/html": [
       "\n",
       "<p><b>Shutting down your kernel for this notebook to release resources.b>p>\n",
       "<button class=\"sm-command-button\" data-commandlinker-command=\"kernelmenu:shutdown\" style=\"display:none;\">Shutdown Kernelbutton>\n",
       "        \n",
       "<script>\n",
       "try {\n",
       "    els = document.getElementsByClassName(\"sm-command-button\");\n",
       "    els[0].click();\n",
       "}\n",
       "catch(err) {\n",
       "    // NoOp\n",
       "}    \n",
       "script>\n"
      ],
      "text/plain": [
       "<IPython.core.display.HTML object>"
      ]
     },
     "metadata": {},
     "output_type": "display_data"
    }
   ],
   "source": [
    "%%html\n",
    "\n",
    "<p><b>Shutting down your kernel for this notebook to release resources.b>p>\n",
    "<button class=\"sm-command-button\" data-commandlinker-command=\"kernelmenu:shutdown\" style=\"display:none;\">Shutdown Kernelbutton>\n",
    "        \n",
    "<script>\n",
    "try {\n",
    "    els = document.getElementsByClassName(\"sm-command-button\");\n",
    "    els[0].click();\n",
    "}\n",
    "catch(err) {\n",
    "    // NoOp\n",
    "}    \n",
    "script>"
   ]
  },
  {
   "cell_type": "code",
   "execution_count": null,
   "metadata": {},
   "outputs": [],
   "source": []
  }
 ],
 "metadata": {
  "instance_type": "ml.t3.medium",
  "kernelspec": {
   "display_name": "Python 3.9.15 64-bit",
   "language": "python",
   "name": "python3"
  },
  "language_info": {
   "codemirror_mode": {
    "name": "ipython",
    "version": 3
   },
   "file_extension": ".py",
   "mimetype": "text/x-python",
   "name": "python",
   "nbconvert_exporter": "python",
   "pygments_lexer": "ipython3",
   "version": "3.9.15"
  },
  "vscode": {
   "interpreter": {
    "hash": "f9f85f796d01129d0dd105a088854619f454435301f6ffec2fea96ecbd9be4ac"
   }
  }
 },
 "nbformat": 4,
 "nbformat_minor": 5
}
