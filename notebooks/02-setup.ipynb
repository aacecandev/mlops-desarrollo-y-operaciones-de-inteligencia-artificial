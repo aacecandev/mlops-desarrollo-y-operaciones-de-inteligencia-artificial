{
 "cells": [
  {
   "cell_type": "markdown",
   "id": "5a71ef0d",
   "metadata": {},
   "source": [
    "# Setup"
   ]
  },
  {
   "cell_type": "markdown",
   "id": "aca82033",
   "metadata": {},
   "source": [
    "Este notebook nos va a servir como baseline para el resto de los notebooks sobre los que trabajaremos durante el módulo.\n",
    "\n",
    "Está pensado como un punto de partida para poder instalar las librerías necesarias para poder trabajar con los notebooks que se irán desarrollando a lo largo del módulo."
   ]
  },
  {
   "cell_type": "code",
   "execution_count": 2,
   "id": "e1c1325d",
   "metadata": {
    "tags": []
   },
   "outputs": [
    {
     "name": "stdout",
     "output_type": "stream",
     "text": [
      "/opt/conda/bin/python\n"
     ]
    }
   ],
   "source": [
    "import sys\n",
    "\n",
    "print(sys.executable)"
   ]
  },
  {
   "cell_type": "code",
   "execution_count": 3,
   "id": "39522505",
   "metadata": {
    "tags": []
   },
   "outputs": [
    {
     "name": "stdout",
     "output_type": "stream",
     "text": [
      "Keyring is skipped due to an exception: 'keyring.backends'\n",
      "\u001b[33mWARNING: Running pip as the 'root' user can result in broken permissions and conflicting behaviour with the system package manager. It is recommended to use a virtual environment instead: https://pip.pypa.io/warnings/venv\u001b[0m\u001b[33m\n",
      "\u001b[0mKeyring is skipped due to an exception: 'keyring.backends'\n",
      "\u001b[31mERROR: pip's dependency resolver does not currently take into account all the packages that are installed. This behaviour is the source of the following dependency conflicts.\n",
      "aiobotocore 2.4.0 requires botocore<1.27.60,>=1.27.59, but you have botocore 1.29.8 which is incompatible.\u001b[0m\u001b[31m\n",
      "\u001b[0m\u001b[33mWARNING: Running pip as the 'root' user can result in broken permissions and conflicting behaviour with the system package manager. It is recommended to use a virtual environment instead: https://pip.pypa.io/warnings/venv\u001b[0m\u001b[33m\n",
      "\u001b[0m"
     ]
    }
   ],
   "source": [
    "!python -m pip install --disable-pip-version-check -q pip --upgrade > /dev/null\n",
    "!python -m pip install --disable-pip-version-check -q wrapt --upgrade > /dev/null"
   ]
  },
  {
   "cell_type": "code",
   "execution_count": 4,
   "id": "deecc7b1",
   "metadata": {
    "tags": []
   },
   "outputs": [
    {
     "name": "stdout",
     "output_type": "stream",
     "text": [
      "Keyring is skipped due to an exception: 'keyring.backends'\n",
      "\u001b[31mERROR: pip's dependency resolver does not currently take into account all the packages that are installed. This behaviour is the source of the following dependency conflicts.\n",
      "pytest-astropy 0.8.0 requires pytest-cov>=2.0, which is not installed.\n",
      "pytest-astropy 0.8.0 requires pytest-filter-subpackage>=0.1, which is not installed.\n",
      "aiobotocore 2.4.0 requires botocore<1.27.60,>=1.27.59, but you have botocore 1.29.8 which is incompatible.\u001b[0m\u001b[31m\n",
      "\u001b[0m\u001b[33mWARNING: Running pip as the 'root' user can result in broken permissions and conflicting behaviour with the system package manager. It is recommended to use a virtual environment instead: https://pip.pypa.io/warnings/venv\u001b[0m\u001b[33m\n",
      "\u001b[0m"
     ]
    }
   ],
   "source": [
    "!python -m pip install \\\n",
    "    --disable-pip-version-check \\\n",
    "    --quiet \\\n",
    "    --extra-index-url https://download.pytorch.org/whl/cpu \\\n",
    "    awscli \\\n",
    "    awswrangler \\\n",
    "    boto3 \\\n",
    "    botocore \\\n",
    "    tabulate \\\n",
    "    matplotlib==3.5.3 \\\n",
    "    psycopg2-binary==2.9.5 \\\n",
    "    PyAthena==2.14.0 \\\n",
    "    sagemaker-experiments==0.1.39 \\\n",
    "    sagemaker==2.116.0 \\\n",
    "    seaborn==0.12.1 \\\n",
    "    scikit-learn==1.0.2 \\\n",
    "    smdebug==1.0.12 \\\n",
    "    SQLAlchemy==1.4.43 \\\n",
    "    stepfunctions==2.3.0 \\\n",
    "    tensorflow==2.9.2 \\\n",
    "    torch==1.13.0 \\\n",
    "    torch-model-archiver==0.6.0 \\\n",
    "    torchaudio==0.13.0 \\\n",
    "    torchserve==0.6.0 \\\n",
    "    torchvision==0.14.0 \\\n",
    "    transformers==4.24.0"
   ]
  },
  {
   "cell_type": "code",
   "execution_count": 5,
   "id": "0754e838",
   "metadata": {
    "tags": []
   },
   "outputs": [
    {
     "name": "stdout",
     "output_type": "stream",
     "text": [
      "Collecting package metadata (current_repodata.json): ...working... done\n",
      "Solving environment: ...working... The history saving thread hit an unexpected error (OperationalError('database is locked')).History will not be written to the database.\n",
      "done\n",
      "\n",
      "## Package Plan ##\n",
      "\n",
      "  environment location: /opt/conda\n",
      "\n",
      "  added / updated specs:\n",
      "    - zip\n",
      "\n",
      "\n",
      "The following packages will be downloaded:\n",
      "\n",
      "    package                    |            build\n",
      "    ---------------------------|-----------------\n",
      "    ca-certificates-2022.10.11 |       h06a4308_0         124 KB\n",
      "    certifi-2022.9.24          |   py37h06a4308_0         154 KB\n",
      "    conda-22.9.0               |   py37h06a4308_0         878 KB\n",
      "    zip-3.0                    |       h7f8727e_1         111 KB\n",
      "    ------------------------------------------------------------\n",
      "                                           Total:         1.2 MB\n",
      "\n",
      "The following NEW packages will be INSTALLED:\n",
      "\n",
      "  zip                pkgs/main/linux-64::zip-3.0-h7f8727e_1 None\n",
      "\n",
      "The following packages will be UPDATED:\n",
      "\n",
      "  ca-certificates    conda-forge::ca-certificates-2022.9.2~ --> pkgs/main::ca-certificates-2022.10.11-h06a4308_0 None\n",
      "\n",
      "The following packages will be SUPERSEDED by a higher-priority channel:\n",
      "\n",
      "  certifi            conda-forge/noarch::certifi-2022.9.24~ --> pkgs/main/linux-64::certifi-2022.9.24-py37h06a4308_0 None\n",
      "  conda              conda-forge::conda-22.9.0-py37h89c186~ --> pkgs/main::conda-22.9.0-py37h06a4308_0 None\n",
      "\n",
      "\n",
      "Preparing transaction: ...working... done\n",
      "Verifying transaction: ...working... done\n",
      "Executing transaction: ...working... done\n",
      "Retrieving notices: ...working... done\n"
     ]
    }
   ],
   "source": [
    "!conda install --quiet --yes zip"
   ]
  },
  {
   "cell_type": "code",
   "execution_count": 16,
   "id": "ae61453e",
   "metadata": {
    "execution": {
     "iopub.execute_input": "2022-11-07T13:36:52.176566Z",
     "iopub.status.busy": "2022-11-07T13:36:52.176307Z",
     "iopub.status.idle": "2022-11-07T13:36:52.180305Z",
     "shell.execute_reply": "2022-11-07T13:36:52.179451Z",
     "shell.execute_reply.started": "2022-11-07T13:36:52.176542Z"
    },
    "tags": []
   },
   "outputs": [],
   "source": [
    "setup_dependencies_passed = True"
   ]
  },
  {
   "cell_type": "markdown",
   "id": "50aeaf11",
   "metadata": {},
   "source": [
    "### Estableciendo permisos"
   ]
  },
  {
   "cell_type": "code",
   "execution_count": 6,
   "id": "147b5637",
   "metadata": {
    "tags": []
   },
   "outputs": [
    {
     "name": "stdout",
     "output_type": "stream",
     "text": [
      "Role ARN: arn:aws:iam::688013747199:role/service-role/AmazonSageMaker-ExecutionRole-20221124T192018\n",
      "Role name: AmazonSageMaker-ExecutionRole-20221124T192018\n"
     ]
    }
   ],
   "source": [
    "import boto3\n",
    "import botocore.exceptions\n",
    "import sagemaker\n",
    "from botocore.config import Config\n",
    "\n",
    "config = Config(retries={\"max_attempts\": 10, \"mode\": \"adaptive\"})\n",
    "iam = boto3.client(\"iam\", config=config)\n",
    "\n",
    "admin = False\n",
    "\n",
    "role_arn = sagemaker.get_execution_role()\n",
    "print(f\"Role ARN: {role_arn}\")\n",
    "\n",
    "role_name = role_arn.split(\"/\")[-1]\n",
    "print(f\"Role name: {role_name}\")"
   ]
  },
  {
   "cell_type": "code",
   "execution_count": 7,
   "id": "bade5496",
   "metadata": {
    "tags": []
   },
   "outputs": [],
   "source": [
    "required_policies = [\n",
    "    \"AdministratorAccess\",\n",
    "    \"IAMFullAccess\",\n",
    "#     \"SecretsManagerReadWrite\",\n",
    "#     \"AmazonS3FullAccess\",\n",
    "#     \"AmazonAthenaFullAccess\",\n",
    "#     \"ComprehendFullAccess\",\n",
    "#     \"AmazonEC2ContainerRegistryFullAccess\",\n",
    "#     \"AmazonRedshiftFullAccess\",\n",
    "#     \"AWSStepFunctionsFullAccess\",\n",
    "#     \"AmazonSageMakerFullAccess\",\n",
    "#     \"AmazonKinesisFullAccess\",\n",
    "#     \"AmazonKinesisFirehoseFullAccess\",\n",
    "#     \"AmazonKinesisAnalyticsFullAccess\",\n",
    "]"
   ]
  },
  {
   "cell_type": "markdown",
   "id": "ae911125",
   "metadata": {
    "execution": {
     "iopub.execute_input": "2022-11-07T13:21:59.624539Z",
     "iopub.status.busy": "2022-11-07T13:21:59.624232Z",
     "iopub.status.idle": "2022-11-07T13:21:59.632419Z",
     "shell.execute_reply": "2022-11-07T13:21:59.631146Z",
     "shell.execute_reply.started": "2022-11-07T13:21:59.624513Z"
    }
   },
   "source": [
    "Vamos a obtener la diferencia entre los dos set de Python, de tal forma que tengamos una lista de aquellas policies requeridas que no estén actualmente\n",
    "asociadas a nuestro rol de SageMaker. Para ver este fragmento de código, podemos descomentar cualquiera de las policies de arriba y ejecutar los siguiente"
   ]
  },
  {
   "cell_type": "code",
   "execution_count": 8,
   "id": "3ad470fc",
   "metadata": {
    "tags": []
   },
   "outputs": [
    {
     "name": "stdout",
     "output_type": "stream",
     "text": [
      "['IAMFullAccess']\n"
     ]
    }
   ],
   "source": [
    "current_policies = [\"AdministratorAccess\"]\n",
    "print(list(set(required_policies).difference(current_policies)))"
   ]
  },
  {
   "cell_type": "markdown",
   "id": "4d9090af",
   "metadata": {},
   "source": [
    "Es importante tener en cuenta que para poder trabajar con IAM, nuestro rol tiene que tener asociada previamente la policy \"IAMFullAccess\". Así mismo,\n",
    "hay que ser conscientes de que esto es un curso, y que en un entorno productivo tenemos que seguir el principio del mínimo privilegio."
   ]
  },
  {
   "cell_type": "code",
   "execution_count": 27,
   "id": "70aa1fa4",
   "metadata": {
    "execution": {
     "iopub.execute_input": "2022-11-07T13:37:13.842837Z",
     "iopub.status.busy": "2022-11-07T13:37:13.842564Z",
     "iopub.status.idle": "2022-11-07T13:37:13.941844Z",
     "shell.execute_reply": "2022-11-07T13:37:13.941017Z",
     "shell.execute_reply.started": "2022-11-07T13:37:13.842815Z"
    },
    "tags": []
   },
   "outputs": [
    {
     "name": "stdout",
     "output_type": "stream",
     "text": [
      "Policy AdministratorAccess has been succesfully attached to role: sagemaker-vanilla-SageMakerExecutionRole-A9Y6X9M9UTWM\n"
     ]
    }
   ],
   "source": [
    "try:\n",
    "    current_policies = [policy['PolicyName'] for policy in iam.list_attached_role_policies(RoleName=role_name)[\"AttachedPolicies\"]]\n",
    "\n",
    "    for policy in list(set(required_policies).difference(current_policies)):\n",
    "        response = iam.attach_role_policy(\n",
    "            PolicyArn=f\"arn:aws:iam::aws:policy/{policy}\",RoleName=role_name\n",
    "        )\n",
    "        print(\"Policy {} has been succesfully attached to role: {}\".format(policy, role_name))\n",
    "    setup_iam_roles_passed = True\n",
    "\n",
    "except botocore.exceptions.ClientError as error:\n",
    "    print(f\"\"\"\n",
    "        **[ERROR]\n",
    "        SageMakerExecutionRole needs the AdministratorAccess or IAMFullAccess policy attached.\n",
    "        **\"\n",
    "    \"\"\")\n",
    "    raise error\n",
    "\n",
    "except Exception as error:\n",
    "    raise error"
   ]
  },
  {
   "cell_type": "markdown",
   "id": "7d11b6e7",
   "metadata": {},
   "source": [
    "## Guardando variables en el store de Jupyter"
   ]
  },
  {
   "cell_type": "markdown",
   "id": "401760b3",
   "metadata": {},
   "source": [
    "Con este paso nos aseguramos de que si alguien ejecuta nuestro notebook, tenga un entorno seguro\n",
    "\n",
    "[Documentación sobre storemagic](https://ipython.readthedocs.io/en/stable/config/extensions/storemagic.html)"
   ]
  },
  {
   "cell_type": "code",
   "execution_count": 28,
   "id": "9ad108af",
   "metadata": {
    "execution": {
     "iopub.execute_input": "2022-11-07T13:37:26.749155Z",
     "iopub.status.busy": "2022-11-07T13:37:26.748639Z",
     "iopub.status.idle": "2022-11-07T13:37:26.762229Z",
     "shell.execute_reply": "2022-11-07T13:37:26.761657Z",
     "shell.execute_reply.started": "2022-11-07T13:37:26.749114Z"
    },
    "tags": []
   },
   "outputs": [
    {
     "name": "stdout",
     "output_type": "stream",
     "text": [
      "Stored 'setup_dependencies_passed' (bool)\n",
      "Stored 'setup_iam_roles_passed' (bool)\n",
      "Stored 'role_arn' (str)\n",
      "Stored 'role_name' (str)\n"
     ]
    }
   ],
   "source": [
    "%store setup_dependencies_passed\n",
    "%store setup_iam_roles_passed\n",
    "%store role_arn\n",
    "%store role_name"
   ]
  },
  {
   "cell_type": "code",
   "execution_count": 29,
   "id": "7c82f429",
   "metadata": {
    "execution": {
     "iopub.execute_input": "2022-11-07T13:37:26.764077Z",
     "iopub.status.busy": "2022-11-07T13:37:26.763519Z",
     "iopub.status.idle": "2022-11-07T13:37:26.769485Z",
     "shell.execute_reply": "2022-11-07T13:37:26.768658Z",
     "shell.execute_reply.started": "2022-11-07T13:37:26.764049Z"
    },
    "tags": []
   },
   "outputs": [
    {
     "name": "stdout",
     "output_type": "stream",
     "text": [
      "Stored variables and their in-db values:\n",
      "role_arn                              -> 'arn:aws:iam::688013747199:role/sagemaker-vanilla-\n",
      "role_name                             -> 'sagemaker-vanilla-SageMakerExecutionRole-A9Y6X9M9\n",
      "setup_dependencies_passed             -> True\n",
      "setup_iam_roles_passed                -> True\n"
     ]
    }
   ],
   "source": [
    "%store"
   ]
  },
  {
   "cell_type": "markdown",
   "id": "8acb6668",
   "metadata": {},
   "source": [
    "## Liberando recursos AWS"
   ]
  },
  {
   "cell_type": "code",
   "execution_count": 30,
   "id": "8e07fece",
   "metadata": {
    "execution": {
     "iopub.execute_input": "2022-11-07T13:37:36.737434Z",
     "iopub.status.busy": "2022-11-07T13:37:36.737009Z",
     "iopub.status.idle": "2022-11-07T13:37:36.749361Z",
     "shell.execute_reply": "2022-11-07T13:37:36.748302Z",
     "shell.execute_reply.started": "2022-11-07T13:37:36.737408Z"
    },
    "tags": []
   },
   "outputs": [
    {
     "data": {
      "application/javascript": [
       "\n",
       "try {\n",
       "    Jupyter.notebook.save_checkpoint();\n",
       "    Jupyter.notebook.session.delete();\n",
       "}\n",
       "catch(err) {\n",
       "    // NoOp\n",
       "}\n"
      ],
      "text/plain": [
       "<IPython.core.display.Javascript object>"
      ]
     },
     "metadata": {},
     "output_type": "display_data"
    }
   ],
   "source": [
    "%%javascript\n",
    "\n",
    "try {\n",
    "    Jupyter.notebook.save_checkpoint();\n",
    "    Jupyter.notebook.session.delete();\n",
    "}\n",
    "catch(err) {\n",
    "    // NoOp\n",
    "}"
   ]
  },
  {
   "cell_type": "code",
   "execution_count": 31,
   "id": "49b38bfc",
   "metadata": {
    "execution": {
     "iopub.execute_input": "2022-11-07T13:37:37.496632Z",
     "iopub.status.busy": "2022-11-07T13:37:37.495786Z",
     "iopub.status.idle": "2022-11-07T13:37:37.520189Z",
     "shell.execute_reply": "2022-11-07T13:37:37.517037Z",
     "shell.execute_reply.started": "2022-11-07T13:37:37.496594Z"
    },
    "tags": []
   },
   "outputs": [
    {
     "data": {
      "text/html": [
       "\n",
       "<p><b>Shutting down your kernel for this notebook to release resources.b>p>\n",
       "<button class=\"sm-command-button\" data-commandlinker-command=\"kernelmenu:shutdown\" style=\"display:none;\">Shutdown Kernelbutton>\n",
       "        \n",
       "<script>\n",
       "try {\n",
       "    els = document.getElementsByClassName(\"sm-command-button\");\n",
       "    els[0].click();\n",
       "}\n",
       "catch(err) {\n",
       "    // NoOp\n",
       "}    \n",
       "script>\n"
      ],
      "text/plain": [
       "<IPython.core.display.HTML object>"
      ]
     },
     "metadata": {},
     "output_type": "display_data"
    }
   ],
   "source": [
    "%%html\n",
    "\n",
    "<p><b>Shutting down your kernel for this notebook to release resources.b>p>\n",
    "<button class=\"sm-command-button\" data-commandlinker-command=\"kernelmenu:shutdown\" style=\"display:none;\">Shutdown Kernelbutton>\n",
    "        \n",
    "<script>\n",
    "try {\n",
    "    els = document.getElementsByClassName(\"sm-command-button\");\n",
    "    els[0].click();\n",
    "}\n",
    "catch(err) {\n",
    "    // NoOp\n",
    "}    \n",
    "script>"
   ]
  },
  {
   "cell_type": "code",
   "execution_count": null,
   "id": "a3edca2c",
   "metadata": {},
   "outputs": [],
   "source": []
  }
 ],
 "metadata": {
  "instance_type": "ml.t3.medium",
  "kernelspec": {
   "display_name": "Python 3 (Data Science)",
   "language": "python",
   "name": "python3__SAGEMAKER_INTERNAL__arn:aws:sagemaker:us-east-1:081325390199:image/datascience-1.0"
  },
  "language_info": {
   "codemirror_mode": {
    "name": "ipython",
    "version": 3
   },
   "file_extension": ".py",
   "mimetype": "text/x-python",
   "name": "python",
   "nbconvert_exporter": "python",
   "pygments_lexer": "ipython3",
   "version": "3.7.10"
  },
  "vscode": {
   "interpreter": {
    "hash": "f9f85f796d01129d0dd105a088854619f454435301f6ffec2fea96ecbd9be4ac"
   }
  }
 },
 "nbformat": 4,
 "nbformat_minor": 5
}
