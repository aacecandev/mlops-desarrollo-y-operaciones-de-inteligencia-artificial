{
 "cells": [
  {
   "cell_type": "markdown",
   "metadata": {},
   "source": [
    "# Sagemaker "
   ]
  },
  {
   "cell_type": "markdown",
   "metadata": {},
   "source": [
    "## Transformar los datos y entrenar un modelo dentro de un notebook Jupyter."
   ]
  },
  {
   "cell_type": "markdown",
   "metadata": {
    "Collapsed": "true"
   },
   "source": [
    "\n",
    "\n",
    "\n",
    "En este notebook demostraremos un viaje hacia el aprendizaje automático nativo en la nube, empezando por un enfoque más tradicional de desarrollo de modelos y entrenamiento directamente en notebooks Jupyter, pasando por transformaciones de datos gestionadas de forma remota y entrenamiento con Amazon SageMaker, hasta pipelines totalmente automatizados con [SageMaker Pipelines](https://aws.amazon.com/sagemaker/pipelines/).\n",
    "\n",
    "En este primer cuaderno predeciremos el precio de la vivienda basándonos en el conocido [Boston Housing dataset](https://www.cs.toronto.edu/~delve/data/boston/bostonDetail.html) con un modelo de regresión simple en Tensorflow 2. Este Dataset público contiene 13 features relativas al parque de viviendas de las ciudades del área de Boston. Las features incluyen el número medio de habitaciones, la accesibilidad a las carreteras radiales, la adyacencia a un río importante, etc.  \n",
    "\n",
    "Para empezar, crearemos directorios para los datos de entrenamiento y de prueba.  También configuraremos una sesión de SageMaker para realizar varias operaciones, y especificaremos un cubo de Amazon S3 para mantener los datos de entrada y salida.  El cubo por defecto utilizado aquí es creado por SageMaker si no existe ya, y nombrado de acuerdo con el ID de la cuenta de AWS y la región de AWS.  "
   ]
  },
  {
   "cell_type": "markdown",
   "metadata": {},
   "source": [
    "!pip install matplotlib seaborn"
   ]
  },
  {
   "cell_type": "code",
   "execution_count": 3,
   "metadata": {},
   "outputs": [],
   "source": [
    "%matplotlib inline\n",
    "import warnings\n",
    "warnings.filterwarnings(\"ignore\")\n",
    "import numpy as np\n",
    "import matplotlib.pyplot as plt\n",
    "import seaborn as sns\n",
    "import pandas as pd"
   ]
  },
  {
   "cell_type": "code",
   "execution_count": 4,
   "metadata": {
    "Collapsed": "false"
   },
   "outputs": [],
   "source": [
    "import os\n",
    "\n",
    "data_dir = os.path.join(os.getcwd(), 'data')\n",
    "os.makedirs(data_dir, exist_ok=True)\n",
    "\n",
    "train_dir = os.path.join(os.getcwd(), 'data/train')\n",
    "os.makedirs(train_dir, exist_ok=True)\n",
    "\n",
    "test_dir = os.path.join(os.getcwd(), 'data/test')\n",
    "os.makedirs(test_dir, exist_ok=True)\n",
    "\n",
    "raw_dir = os.path.join(os.getcwd(), 'data/raw')\n",
    "os.makedirs(raw_dir, exist_ok=True)\n",
    "\n",
    "batch_dir = os.path.join(os.getcwd(), 'data/batch')\n",
    "os.makedirs(batch_dir, exist_ok=True)"
   ]
  },
  {
   "cell_type": "markdown",
   "metadata": {},
   "source": [
    "# Exploratory Data Analysis (EDA)\n",
    "\n",
    "According to The [State of Data Science 2020](https://www.anaconda.com/state-of-data-science-2020) survey, data management, exploratory data analysis (EDA), feature selection, and feature engineering accounts for more than 66% of a data scientist’s time.\n",
    "\n",
    "Exploratory Data Analysis is an approach in analyzing data sets to summarize their main characteristics, often using statistical graphics and other data visualization methods.\n",
    "EDA assists Data science professionals in various ways:-\n",
    "\n",
    "- Getting a better understanding of data.\n",
    "- Identifying various data patterns.\n",
    "- Getting a better understanding of the problem statement.\n",
    "\n",
    "Numerical EDA gives you some very important information, such as the names and data types of the columns, and the dimensions of the DataFrame. \n",
    "Visual EDA on the other hand will give you insight into features and target relationship and distribution.\n",
    "\n",
    "First we'll load the Boston Housing dataset and explore the data.\n",
    "\n",
    "Según la encuesta [State of Data Science 2020](https://www.anaconda.com/state-of-data-science-2020), la gestión de datos, el análisis exploratorio de datos (EDA), la selección de features y la ingeniería de features representan más del 66% del tiempo de un científico de datos.\n",
    "\n",
    "El análisis exploratorio de datos es un enfoque para analizar Datasets con el fin de resumir sus principales características, a menudo utilizando gráficos estadísticos y otros métodos de visualización de datos.\n",
    "El EDA ayuda a los profesionales de la ciencia de los datos de varias maneras\n",
    "\n",
    "- Obtener una mejor comprensión de los datos.\n",
    "- Identificar patrones en los datos.\n",
    "- Obtener una mejor comprensión del planteamiento del problema.\n",
    "\n",
    "El EDA numérico da información muy importante, como los nombres y tipos de datos de las columnas, y las dimensiones del DataFrame.\n",
    "El EDA visual, por otro lado, da una visión de la relación entre las features y el target y de la distribución de las muestras.\n"
   ]
  },
  {
   "cell_type": "markdown",
   "metadata": {},
   "source": [
    "Primero cargaremos el Dataset de viviendas de Boston y exploraremos los datos."
   ]
  },
  {
   "cell_type": "code",
   "execution_count": 5,
   "metadata": {},
   "outputs": [
    {
     "name": "stdout",
     "output_type": "stream",
     "text": [
      "Downloading data from https://storage.googleapis.com/tensorflow/tf-keras-datasets/boston_housing.npz\n",
      "57344/57026 [==============================] - 0s 0us/step\n",
      "(404, 13) (404,)\n",
      "(102, 13) (102,)\n"
     ]
    }
   ],
   "source": [
    "from tensorflow.python.keras.datasets import boston_housing\n",
    "\n",
    "(x_train, y_train), (x_test, y_test) = boston_housing.load_data()\n",
    "print(x_train.shape, y_train.shape)\n",
    "print(x_test.shape, y_test.shape)"
   ]
  },
  {
   "cell_type": "code",
   "execution_count": 6,
   "metadata": {},
   "outputs": [
    {
     "data": {
      "text/html": [
       "<div>\n",
       "<style scoped>\n",
       "    .dataframe tbody tr th:only-of-type {\n",
       "        vertical-align: middle;\n",
       "    }\n",
       "\n",
       "    .dataframe tbody tr th {\n",
       "        vertical-align: top;\n",
       "    }\n",
       "\n",
       "    .dataframe thead th {\n",
       "        text-align: right;\n",
       "    }\n",
       "</style>\n",
       "<table border=\"1\" class=\"dataframe\">\n",
       "  <thead>\n",
       "    <tr style=\"text-align: right;\">\n",
       "      <th></th>\n",
       "      <th>CRIM</th>\n",
       "      <th>ZN</th>\n",
       "      <th>INDUS</th>\n",
       "      <th>CHAS</th>\n",
       "      <th>NOX</th>\n",
       "      <th>RM</th>\n",
       "      <th>AGE</th>\n",
       "      <th>DIS</th>\n",
       "      <th>RAD</th>\n",
       "      <th>TAX</th>\n",
       "      <th>PTRATIO</th>\n",
       "      <th>B</th>\n",
       "      <th>LSTAT</th>\n",
       "      <th>MEDV</th>\n",
       "    </tr>\n",
       "  </thead>\n",
       "  <tbody>\n",
       "    <tr>\n",
       "      <th>0</th>\n",
       "      <td>1.23247</td>\n",
       "      <td>0.0</td>\n",
       "      <td>8.14</td>\n",
       "      <td>0.0</td>\n",
       "      <td>0.5380</td>\n",
       "      <td>6.142</td>\n",
       "      <td>91.7</td>\n",
       "      <td>3.9769</td>\n",
       "      <td>4.0</td>\n",
       "      <td>307.0</td>\n",
       "      <td>21.0</td>\n",
       "      <td>396.90</td>\n",
       "      <td>18.72</td>\n",
       "      <td>15.2</td>\n",
       "    </tr>\n",
       "    <tr>\n",
       "      <th>1</th>\n",
       "      <td>0.02177</td>\n",
       "      <td>82.5</td>\n",
       "      <td>2.03</td>\n",
       "      <td>0.0</td>\n",
       "      <td>0.4150</td>\n",
       "      <td>7.610</td>\n",
       "      <td>15.7</td>\n",
       "      <td>6.2700</td>\n",
       "      <td>2.0</td>\n",
       "      <td>348.0</td>\n",
       "      <td>14.7</td>\n",
       "      <td>395.38</td>\n",
       "      <td>3.11</td>\n",
       "      <td>42.3</td>\n",
       "    </tr>\n",
       "    <tr>\n",
       "      <th>2</th>\n",
       "      <td>4.89822</td>\n",
       "      <td>0.0</td>\n",
       "      <td>18.10</td>\n",
       "      <td>0.0</td>\n",
       "      <td>0.6310</td>\n",
       "      <td>4.970</td>\n",
       "      <td>100.0</td>\n",
       "      <td>1.3325</td>\n",
       "      <td>24.0</td>\n",
       "      <td>666.0</td>\n",
       "      <td>20.2</td>\n",
       "      <td>375.52</td>\n",
       "      <td>3.26</td>\n",
       "      <td>50.0</td>\n",
       "    </tr>\n",
       "    <tr>\n",
       "      <th>3</th>\n",
       "      <td>0.03961</td>\n",
       "      <td>0.0</td>\n",
       "      <td>5.19</td>\n",
       "      <td>0.0</td>\n",
       "      <td>0.5150</td>\n",
       "      <td>6.037</td>\n",
       "      <td>34.5</td>\n",
       "      <td>5.9853</td>\n",
       "      <td>5.0</td>\n",
       "      <td>224.0</td>\n",
       "      <td>20.2</td>\n",
       "      <td>396.90</td>\n",
       "      <td>8.01</td>\n",
       "      <td>21.1</td>\n",
       "    </tr>\n",
       "    <tr>\n",
       "      <th>4</th>\n",
       "      <td>3.69311</td>\n",
       "      <td>0.0</td>\n",
       "      <td>18.10</td>\n",
       "      <td>0.0</td>\n",
       "      <td>0.7130</td>\n",
       "      <td>6.376</td>\n",
       "      <td>88.4</td>\n",
       "      <td>2.5671</td>\n",
       "      <td>24.0</td>\n",
       "      <td>666.0</td>\n",
       "      <td>20.2</td>\n",
       "      <td>391.43</td>\n",
       "      <td>14.65</td>\n",
       "      <td>17.7</td>\n",
       "    </tr>\n",
       "    <tr>\n",
       "      <th>...</th>\n",
       "      <td>...</td>\n",
       "      <td>...</td>\n",
       "      <td>...</td>\n",
       "      <td>...</td>\n",
       "      <td>...</td>\n",
       "      <td>...</td>\n",
       "      <td>...</td>\n",
       "      <td>...</td>\n",
       "      <td>...</td>\n",
       "      <td>...</td>\n",
       "      <td>...</td>\n",
       "      <td>...</td>\n",
       "      <td>...</td>\n",
       "      <td>...</td>\n",
       "    </tr>\n",
       "    <tr>\n",
       "      <th>399</th>\n",
       "      <td>0.21977</td>\n",
       "      <td>0.0</td>\n",
       "      <td>6.91</td>\n",
       "      <td>0.0</td>\n",
       "      <td>0.4480</td>\n",
       "      <td>5.602</td>\n",
       "      <td>62.0</td>\n",
       "      <td>6.0877</td>\n",
       "      <td>3.0</td>\n",
       "      <td>233.0</td>\n",
       "      <td>17.9</td>\n",
       "      <td>396.90</td>\n",
       "      <td>16.20</td>\n",
       "      <td>19.4</td>\n",
       "    </tr>\n",
       "    <tr>\n",
       "      <th>400</th>\n",
       "      <td>0.16211</td>\n",
       "      <td>20.0</td>\n",
       "      <td>6.96</td>\n",
       "      <td>0.0</td>\n",
       "      <td>0.4640</td>\n",
       "      <td>6.240</td>\n",
       "      <td>16.3</td>\n",
       "      <td>4.4290</td>\n",
       "      <td>3.0</td>\n",
       "      <td>223.0</td>\n",
       "      <td>18.6</td>\n",
       "      <td>396.90</td>\n",
       "      <td>6.59</td>\n",
       "      <td>25.2</td>\n",
       "    </tr>\n",
       "    <tr>\n",
       "      <th>401</th>\n",
       "      <td>0.03466</td>\n",
       "      <td>35.0</td>\n",
       "      <td>6.06</td>\n",
       "      <td>0.0</td>\n",
       "      <td>0.4379</td>\n",
       "      <td>6.031</td>\n",
       "      <td>23.3</td>\n",
       "      <td>6.6407</td>\n",
       "      <td>1.0</td>\n",
       "      <td>304.0</td>\n",
       "      <td>16.9</td>\n",
       "      <td>362.25</td>\n",
       "      <td>7.83</td>\n",
       "      <td>19.4</td>\n",
       "    </tr>\n",
       "    <tr>\n",
       "      <th>402</th>\n",
       "      <td>2.14918</td>\n",
       "      <td>0.0</td>\n",
       "      <td>19.58</td>\n",
       "      <td>0.0</td>\n",
       "      <td>0.8710</td>\n",
       "      <td>5.709</td>\n",
       "      <td>98.5</td>\n",
       "      <td>1.6232</td>\n",
       "      <td>5.0</td>\n",
       "      <td>403.0</td>\n",
       "      <td>14.7</td>\n",
       "      <td>261.95</td>\n",
       "      <td>15.79</td>\n",
       "      <td>19.4</td>\n",
       "    </tr>\n",
       "    <tr>\n",
       "      <th>403</th>\n",
       "      <td>0.01439</td>\n",
       "      <td>60.0</td>\n",
       "      <td>2.93</td>\n",
       "      <td>0.0</td>\n",
       "      <td>0.4010</td>\n",
       "      <td>6.604</td>\n",
       "      <td>18.8</td>\n",
       "      <td>6.2196</td>\n",
       "      <td>1.0</td>\n",
       "      <td>265.0</td>\n",
       "      <td>15.6</td>\n",
       "      <td>376.70</td>\n",
       "      <td>4.38</td>\n",
       "      <td>29.1</td>\n",
       "    </tr>\n",
       "  </tbody>\n",
       "</table>\n",
       "<p>404 rows × 14 columns</p>\n",
       "</div>"
      ],
      "text/plain": [
       "        CRIM    ZN  INDUS  CHAS     NOX     RM    AGE     DIS   RAD    TAX  \\\n",
       "0    1.23247   0.0   8.14   0.0  0.5380  6.142   91.7  3.9769   4.0  307.0   \n",
       "1    0.02177  82.5   2.03   0.0  0.4150  7.610   15.7  6.2700   2.0  348.0   \n",
       "2    4.89822   0.0  18.10   0.0  0.6310  4.970  100.0  1.3325  24.0  666.0   \n",
       "3    0.03961   0.0   5.19   0.0  0.5150  6.037   34.5  5.9853   5.0  224.0   \n",
       "4    3.69311   0.0  18.10   0.0  0.7130  6.376   88.4  2.5671  24.0  666.0   \n",
       "..       ...   ...    ...   ...     ...    ...    ...     ...   ...    ...   \n",
       "399  0.21977   0.0   6.91   0.0  0.4480  5.602   62.0  6.0877   3.0  233.0   \n",
       "400  0.16211  20.0   6.96   0.0  0.4640  6.240   16.3  4.4290   3.0  223.0   \n",
       "401  0.03466  35.0   6.06   0.0  0.4379  6.031   23.3  6.6407   1.0  304.0   \n",
       "402  2.14918   0.0  19.58   0.0  0.8710  5.709   98.5  1.6232   5.0  403.0   \n",
       "403  0.01439  60.0   2.93   0.0  0.4010  6.604   18.8  6.2196   1.0  265.0   \n",
       "\n",
       "     PTRATIO       B  LSTAT  MEDV  \n",
       "0       21.0  396.90  18.72  15.2  \n",
       "1       14.7  395.38   3.11  42.3  \n",
       "2       20.2  375.52   3.26  50.0  \n",
       "3       20.2  396.90   8.01  21.1  \n",
       "4       20.2  391.43  14.65  17.7  \n",
       "..       ...     ...    ...   ...  \n",
       "399     17.9  396.90  16.20  19.4  \n",
       "400     18.6  396.90   6.59  25.2  \n",
       "401     16.9  362.25   7.83  19.4  \n",
       "402     14.7  261.95  15.79  19.4  \n",
       "403     15.6  376.70   4.38  29.1  \n",
       "\n",
       "[404 rows x 14 columns]"
      ]
     },
     "execution_count": 6,
     "metadata": {},
     "output_type": "execute_result"
    }
   ],
   "source": [
    "columns=['CRIM',\n",
    "         'ZN',\n",
    "         'INDUS',\n",
    "         'CHAS',\n",
    "         'NOX',\n",
    "         'RM',\n",
    "         'AGE',\n",
    "         'DIS',\n",
    "         'RAD',\n",
    "         'TAX',\n",
    "         'PTRATIO',\n",
    "         'B',\n",
    "         'LSTAT']\n",
    "\n",
    "df = pd.DataFrame(x_train, columns=columns)\n",
    "df[\"MEDV\"] = y_train\n",
    "df"
   ]
  },
  {
   "cell_type": "markdown",
   "metadata": {},
   "source": [
    "### EDA numérico\n",
    "\n",
    "Comprobamos qué tamaño tiene el Dataset, cuántas features tiene y de qué tipo, y cuál es el target."
   ]
  },
  {
   "cell_type": "code",
   "execution_count": 7,
   "metadata": {},
   "outputs": [
    {
     "name": "stdout",
     "output_type": "stream",
     "text": [
      "<class 'pandas.core.frame.DataFrame'>\n",
      "RangeIndex: 404 entries, 0 to 403\n",
      "Data columns (total 14 columns):\n",
      " #   Column   Non-Null Count  Dtype  \n",
      "---  ------   --------------  -----  \n",
      " 0   CRIM     404 non-null    float64\n",
      " 1   ZN       404 non-null    float64\n",
      " 2   INDUS    404 non-null    float64\n",
      " 3   CHAS     404 non-null    float64\n",
      " 4   NOX      404 non-null    float64\n",
      " 5   RM       404 non-null    float64\n",
      " 6   AGE      404 non-null    float64\n",
      " 7   DIS      404 non-null    float64\n",
      " 8   RAD      404 non-null    float64\n",
      " 9   TAX      404 non-null    float64\n",
      " 10  PTRATIO  404 non-null    float64\n",
      " 11  B        404 non-null    float64\n",
      " 12  LSTAT    404 non-null    float64\n",
      " 13  MEDV     404 non-null    float64\n",
      "dtypes: float64(14)\n",
      "memory usage: 44.3 KB\n"
     ]
    }
   ],
   "source": [
    "df.info()"
   ]
  },
  {
   "cell_type": "markdown",
   "metadata": {},
   "source": [
    "Hay 14 atributos en cada caso del Dataset:\n",
    "\n",
    "1. CRIM - tasa de criminalidad per cápita por ciudad.\n",
    "2. ZN - proporción de terrenos residenciales agrupados en solares de más de 25.000 pies cuadrados.\n",
    "3. INDUS - proporción de acres comerciales no minoristas por ciudad.\n",
    "4. CHAS - Variable ficticia del río Charles (1 si el tramo limita con el río; 0 en caso contrario).\n",
    "5. NOX - concentración de óxidos nítricos (partes por 10 millones).\n",
    "6. RM - número medio de habitaciones por vivienda.\n",
    "7. EDAD - proporción de unidades habitadas por sus propietarios construidas antes de 1940.\n",
    "8. DIS - distancias ponderadas a cinco centros de empleo de Boston.\n",
    "9. RAD - índice de accesibilidad a las autopistas radiales.\n",
    "10. TAX - tasa de impuesto sobre el valor total de la propiedad por cada 10.000 dólares.\n",
    "11. PTRATIO - ratio alumno-profesor por ciudad.\n",
    "12. B - 1000(Bk - 0.63)^2 donde Bk es la proporción de gente de color por ciudad.\n",
    "13. LSTAT - % de estatus inferior de la población.\n",
    "14. MEDV - Valor medio de las viviendas habitadas por sus propietarios."
   ]
  },
  {
   "cell_type": "markdown",
   "metadata": {},
   "source": [
    "Ahora, vamos a resumir los datos para ver la distribución de los mismos"
   ]
  },
  {
   "cell_type": "code",
   "execution_count": 8,
   "metadata": {},
   "outputs": [
    {
     "data": {
      "text/html": [
       "<div>\n",
       "<style scoped>\n",
       "    .dataframe tbody tr th:only-of-type {\n",
       "        vertical-align: middle;\n",
       "    }\n",
       "\n",
       "    .dataframe tbody tr th {\n",
       "        vertical-align: top;\n",
       "    }\n",
       "\n",
       "    .dataframe thead th {\n",
       "        text-align: right;\n",
       "    }\n",
       "</style>\n",
       "<table border=\"1\" class=\"dataframe\">\n",
       "  <thead>\n",
       "    <tr style=\"text-align: right;\">\n",
       "      <th></th>\n",
       "      <th>CRIM</th>\n",
       "      <th>ZN</th>\n",
       "      <th>INDUS</th>\n",
       "      <th>CHAS</th>\n",
       "      <th>NOX</th>\n",
       "      <th>RM</th>\n",
       "      <th>AGE</th>\n",
       "      <th>DIS</th>\n",
       "      <th>RAD</th>\n",
       "      <th>TAX</th>\n",
       "      <th>PTRATIO</th>\n",
       "      <th>B</th>\n",
       "      <th>LSTAT</th>\n",
       "      <th>MEDV</th>\n",
       "    </tr>\n",
       "  </thead>\n",
       "  <tbody>\n",
       "    <tr>\n",
       "      <th>count</th>\n",
       "      <td>404.000000</td>\n",
       "      <td>404.000000</td>\n",
       "      <td>404.000000</td>\n",
       "      <td>404.000000</td>\n",
       "      <td>404.000000</td>\n",
       "      <td>404.000000</td>\n",
       "      <td>404.000000</td>\n",
       "      <td>404.000000</td>\n",
       "      <td>404.000000</td>\n",
       "      <td>404.000000</td>\n",
       "      <td>404.000000</td>\n",
       "      <td>404.000000</td>\n",
       "      <td>404.000000</td>\n",
       "      <td>404.000000</td>\n",
       "    </tr>\n",
       "    <tr>\n",
       "      <th>mean</th>\n",
       "      <td>3.745111</td>\n",
       "      <td>11.480198</td>\n",
       "      <td>11.104431</td>\n",
       "      <td>0.061881</td>\n",
       "      <td>0.557356</td>\n",
       "      <td>6.267082</td>\n",
       "      <td>69.010644</td>\n",
       "      <td>3.740271</td>\n",
       "      <td>9.440594</td>\n",
       "      <td>405.898515</td>\n",
       "      <td>18.475990</td>\n",
       "      <td>354.783168</td>\n",
       "      <td>12.740817</td>\n",
       "      <td>22.395050</td>\n",
       "    </tr>\n",
       "    <tr>\n",
       "      <th>std</th>\n",
       "      <td>9.240734</td>\n",
       "      <td>23.767711</td>\n",
       "      <td>6.811308</td>\n",
       "      <td>0.241238</td>\n",
       "      <td>0.117293</td>\n",
       "      <td>0.709788</td>\n",
       "      <td>27.940665</td>\n",
       "      <td>2.030215</td>\n",
       "      <td>8.698360</td>\n",
       "      <td>166.374543</td>\n",
       "      <td>2.200382</td>\n",
       "      <td>94.111148</td>\n",
       "      <td>7.254545</td>\n",
       "      <td>9.210442</td>\n",
       "    </tr>\n",
       "    <tr>\n",
       "      <th>min</th>\n",
       "      <td>0.006320</td>\n",
       "      <td>0.000000</td>\n",
       "      <td>0.460000</td>\n",
       "      <td>0.000000</td>\n",
       "      <td>0.385000</td>\n",
       "      <td>3.561000</td>\n",
       "      <td>2.900000</td>\n",
       "      <td>1.129600</td>\n",
       "      <td>1.000000</td>\n",
       "      <td>188.000000</td>\n",
       "      <td>12.600000</td>\n",
       "      <td>0.320000</td>\n",
       "      <td>1.730000</td>\n",
       "      <td>5.000000</td>\n",
       "    </tr>\n",
       "    <tr>\n",
       "      <th>25%</th>\n",
       "      <td>0.081437</td>\n",
       "      <td>0.000000</td>\n",
       "      <td>5.130000</td>\n",
       "      <td>0.000000</td>\n",
       "      <td>0.453000</td>\n",
       "      <td>5.874750</td>\n",
       "      <td>45.475000</td>\n",
       "      <td>2.077100</td>\n",
       "      <td>4.000000</td>\n",
       "      <td>279.000000</td>\n",
       "      <td>17.225000</td>\n",
       "      <td>374.672500</td>\n",
       "      <td>6.890000</td>\n",
       "      <td>16.675000</td>\n",
       "    </tr>\n",
       "    <tr>\n",
       "      <th>50%</th>\n",
       "      <td>0.268880</td>\n",
       "      <td>0.000000</td>\n",
       "      <td>9.690000</td>\n",
       "      <td>0.000000</td>\n",
       "      <td>0.538000</td>\n",
       "      <td>6.198500</td>\n",
       "      <td>78.500000</td>\n",
       "      <td>3.142300</td>\n",
       "      <td>5.000000</td>\n",
       "      <td>330.000000</td>\n",
       "      <td>19.100000</td>\n",
       "      <td>391.250000</td>\n",
       "      <td>11.395000</td>\n",
       "      <td>20.750000</td>\n",
       "    </tr>\n",
       "    <tr>\n",
       "      <th>75%</th>\n",
       "      <td>3.674808</td>\n",
       "      <td>12.500000</td>\n",
       "      <td>18.100000</td>\n",
       "      <td>0.000000</td>\n",
       "      <td>0.631000</td>\n",
       "      <td>6.609000</td>\n",
       "      <td>94.100000</td>\n",
       "      <td>5.118000</td>\n",
       "      <td>24.000000</td>\n",
       "      <td>666.000000</td>\n",
       "      <td>20.200000</td>\n",
       "      <td>396.157500</td>\n",
       "      <td>17.092500</td>\n",
       "      <td>24.800000</td>\n",
       "    </tr>\n",
       "    <tr>\n",
       "      <th>max</th>\n",
       "      <td>88.976200</td>\n",
       "      <td>100.000000</td>\n",
       "      <td>27.740000</td>\n",
       "      <td>1.000000</td>\n",
       "      <td>0.871000</td>\n",
       "      <td>8.725000</td>\n",
       "      <td>100.000000</td>\n",
       "      <td>10.710300</td>\n",
       "      <td>24.000000</td>\n",
       "      <td>711.000000</td>\n",
       "      <td>22.000000</td>\n",
       "      <td>396.900000</td>\n",
       "      <td>37.970000</td>\n",
       "      <td>50.000000</td>\n",
       "    </tr>\n",
       "  </tbody>\n",
       "</table>\n",
       "</div>"
      ],
      "text/plain": [
       "             CRIM          ZN       INDUS        CHAS         NOX          RM  \\\n",
       "count  404.000000  404.000000  404.000000  404.000000  404.000000  404.000000   \n",
       "mean     3.745111   11.480198   11.104431    0.061881    0.557356    6.267082   \n",
       "std      9.240734   23.767711    6.811308    0.241238    0.117293    0.709788   \n",
       "min      0.006320    0.000000    0.460000    0.000000    0.385000    3.561000   \n",
       "25%      0.081437    0.000000    5.130000    0.000000    0.453000    5.874750   \n",
       "50%      0.268880    0.000000    9.690000    0.000000    0.538000    6.198500   \n",
       "75%      3.674808   12.500000   18.100000    0.000000    0.631000    6.609000   \n",
       "max     88.976200  100.000000   27.740000    1.000000    0.871000    8.725000   \n",
       "\n",
       "              AGE         DIS         RAD         TAX     PTRATIO           B  \\\n",
       "count  404.000000  404.000000  404.000000  404.000000  404.000000  404.000000   \n",
       "mean    69.010644    3.740271    9.440594  405.898515   18.475990  354.783168   \n",
       "std     27.940665    2.030215    8.698360  166.374543    2.200382   94.111148   \n",
       "min      2.900000    1.129600    1.000000  188.000000   12.600000    0.320000   \n",
       "25%     45.475000    2.077100    4.000000  279.000000   17.225000  374.672500   \n",
       "50%     78.500000    3.142300    5.000000  330.000000   19.100000  391.250000   \n",
       "75%     94.100000    5.118000   24.000000  666.000000   20.200000  396.157500   \n",
       "max    100.000000   10.710300   24.000000  711.000000   22.000000  396.900000   \n",
       "\n",
       "            LSTAT        MEDV  \n",
       "count  404.000000  404.000000  \n",
       "mean    12.740817   22.395050  \n",
       "std      7.254545    9.210442  \n",
       "min      1.730000    5.000000  \n",
       "25%      6.890000   16.675000  \n",
       "50%     11.395000   20.750000  \n",
       "75%     17.092500   24.800000  \n",
       "max     37.970000   50.000000  "
      ]
     },
     "execution_count": 8,
     "metadata": {},
     "output_type": "execute_result"
    }
   ],
   "source": [
    "df.describe()"
   ]
  },
  {
   "cell_type": "markdown",
   "metadata": {},
   "source": [
    "### EDA visual\n",
    "\n",
    "Intentemos encontrar el nivel de delincuencia en relación con la condición de ciudadano y el valor medio de las viviendas."
   ]
  },
  {
   "cell_type": "code",
   "execution_count": 9,
   "metadata": {},
   "outputs": [
    {
     "data": {
      "text/plain": [
       "0    (14.0, 23.0]\n",
       "1    (41.0, 50.0]\n",
       "2    (41.0, 50.0]\n",
       "3    (14.0, 23.0]\n",
       "4    (14.0, 23.0]\n",
       "Name: medv_bins, dtype: category\n",
       "Categories (5, interval[float64]): [(4.954, 14.0] < (14.0, 23.0] < (23.0, 32.0] < (32.0, 41.0] < (41.0, 50.0]]"
      ]
     },
     "execution_count": 9,
     "metadata": {},
     "output_type": "execute_result"
    }
   ],
   "source": [
    "df['medv_bins'] = pd.cut(df.MEDV, bins=5, include_lowest=True)\n",
    "df.medv_bins.head()"
   ]
  },
  {
   "cell_type": "code",
   "execution_count": 10,
   "metadata": {},
   "outputs": [
    {
     "data": {
      "text/plain": [
       "0     poorest\n",
       "1     richest\n",
       "2     richest\n",
       "3    ordinary\n",
       "4    ordinary\n",
       "Name: lstat_bins, dtype: category\n",
       "Categories (3, object): ['richest' < 'ordinary' < 'poorest']"
      ]
     },
     "execution_count": 10,
     "metadata": {},
     "output_type": "execute_result"
    }
   ],
   "source": [
    "df['lstat_bins'] = pd.cut(df.LSTAT, bins=[0, 7, 17, 38], labels=['richest', 'ordinary', 'poorest'], include_lowest=True)\n",
    "df.lstat_bins.head()"
   ]
  },
  {
   "cell_type": "code",
   "execution_count": 11,
   "metadata": {},
   "outputs": [
    {
     "data": {
      "text/plain": [
       "[Text(0.5, 147.10363636363638, '')]"
      ]
     },
     "execution_count": 11,
     "metadata": {},
     "output_type": "execute_result"
    },
    {
     "data": {
      "image/png": "[encoded data removed]",
      "text/plain": [
       "<Figure size 432x288 with 2 Axes>"
      ]
     },
     "metadata": {
      "needs_background": "light"
     },
     "output_type": "display_data"
    }
   ],
   "source": [
    "f, (ax_viol, ax_box) = plt.subplots(2, sharex=True)\n",
    "\n",
    "sns.boxplot(x='medv_bins', y='CRIM', data=df, ax=ax_viol)\n",
    "sns.swarmplot(x='medv_bins', y='CRIM', hue='lstat_bins', data=df, ax=ax_box)\n",
    "\n",
    "ax_viol.set(xlabel='')"
   ]
  },
  {
   "cell_type": "markdown",
   "metadata": {},
   "source": [
    "Podemos ver que a medida que el estatus de los ciudadanos es más pobre (LSTAT) y el valor medio de las casas es más bajo (MEDV), el nivel de delincuencia está creciendo (CRIM)."
   ]
  },
  {
   "cell_type": "markdown",
   "metadata": {
    "Collapsed": "false"
   },
   "source": [
    "# Dataset transformation <a class=\"anchor\" id=\"SageMakerProcessing\">\n"
   ]
  },
  {
   "cell_type": "markdown",
   "metadata": {},
   "source": [
    "A continuación, transformaremos el Dataset. En un flujo de trabajo típico de SageMaker, los notebooks sólo se utilizan para la creación de prototipos y pueden ejecutarse en instancias relativamente baratas y menos potentes, mientras que las tareas de procesamiento, formación y alojamiento de modelos se ejecutan en instancias independientes y más potentes gestionadas por SageMaker.\n",
    "\n"
   ]
  },
  {
   "cell_type": "markdown",
   "metadata": {},
   "source": [
    "Ahora guardaremos los datos de features en bruto, y también guardaremos las etiquetas para el entrenamiento y las pruebas."
   ]
  },
  {
   "cell_type": "code",
   "execution_count": 12,
   "metadata": {
    "Collapsed": "false"
   },
   "outputs": [],
   "source": [
    "import numpy as np\n",
    "from sklearn.preprocessing import StandardScaler\n",
    "\n",
    "np.save(os.path.join(raw_dir, 'x_train.npy'), x_train)\n",
    "np.save(os.path.join(raw_dir, 'x_test.npy'), x_test)\n",
    "np.save(os.path.join(raw_dir, 'y_train.npy'), y_train)\n",
    "np.save(os.path.join(raw_dir, 'y_test.npy'), y_test)"
   ]
  },
  {
   "cell_type": "markdown",
   "metadata": {
    "Collapsed": "false"
   },
   "source": [
    "A continuación, ejecutaremos el preprocesamiento de datos como se muestra a continuación."
   ]
  },
  {
   "cell_type": "code",
   "execution_count": 13,
   "metadata": {
    "Collapsed": "false"
   },
   "outputs": [
    {
     "data": {
      "text/plain": [
       "StandardScaler()"
      ]
     },
     "execution_count": 13,
     "metadata": {},
     "output_type": "execute_result"
    }
   ],
   "source": [
    "import glob\n",
    "import numpy as np\n",
    "import os\n",
    "from sklearn.preprocessing import StandardScaler\n",
    "\n",
    "\n",
    "scaler = StandardScaler()\n",
    "x_train = np.load(os.path.join(raw_dir, 'x_train.npy'))\n",
    "scaler.fit(x_train)"
   ]
  },
  {
   "cell_type": "code",
   "execution_count": 14,
   "metadata": {
    "Collapsed": "false"
   },
   "outputs": [
    {
     "name": "stdout",
     "output_type": "stream",
     "text": [
      "\n",
      "INPUT FILE LIST: \n",
      "['/root/curso-mlops/modulo7-mlops-y-cloud-computing/notebooks/data/raw/x_test.npy', '/root/curso-mlops/modulo7-mlops-y-cloud-computing/notebooks/data/raw/x_train.npy', '/root/curso-mlops/modulo7-mlops-y-cloud-computing/notebooks/data/raw/y_test.npy', '/root/curso-mlops/modulo7-mlops-y-cloud-computing/notebooks/data/raw/y_train.npy']\n",
      "\n",
      "SAVED TRANSFORMED TEST DATA FILE\n",
      "\n",
      "SAVED TRANSFORMED TRAINING DATA FILE\n",
      "\n",
      "SAVED LABEL TEST DATA FILE\n",
      "\n",
      "SAVED LABEL TRAINING DATA FILE\n",
      "\n"
     ]
    }
   ],
   "source": [
    "input_files = glob.glob('{}/raw/*.npy'.format(data_dir))\n",
    "print('\\nINPUT FILE LIST: \\n{}\\n'.format(input_files))\n",
    "for file in input_files:\n",
    "    raw = np.load(file)\n",
    "    # only transform feature columns\n",
    "    if 'y_' not in file:\n",
    "        transformed = scaler.transform(raw)\n",
    "    if 'train' in file:\n",
    "        if 'y_' in file:\n",
    "            output_path = os.path.join(train_dir, 'y_train.npy')\n",
    "            np.save(output_path, raw)\n",
    "            print('SAVED LABEL TRAINING DATA FILE\\n')\n",
    "        else:\n",
    "            output_path = os.path.join(train_dir, 'x_train.npy')\n",
    "            np.save(output_path, transformed)\n",
    "            print('SAVED TRANSFORMED TRAINING DATA FILE\\n')\n",
    "    else:\n",
    "        if 'y_' in file:\n",
    "            output_path = os.path.join(test_dir, 'y_test.npy')\n",
    "            np.save(output_path, raw)\n",
    "            print('SAVED LABEL TEST DATA FILE\\n')\n",
    "        else:\n",
    "            output_path = os.path.join(test_dir, 'x_test.npy')\n",
    "            np.save(output_path, transformed)\n",
    "            print('SAVED TRANSFORMED TEST DATA FILE\\n')"
   ]
  },
  {
   "cell_type": "markdown",
   "metadata": {
    "Collapsed": "false"
   },
   "source": [
    "#  Training <a class=\"anchor\" id=\"SageMakerHostedTraining\">\n"
   ]
  },
  {
   "cell_type": "markdown",
   "metadata": {},
   "source": [
    "Ahora que hemos preparado un conjunto de datos, podemos pasar al entrenamiento del modelo."
   ]
  },
  {
   "cell_type": "code",
   "execution_count": 15,
   "metadata": {
    "Collapsed": "false"
   },
   "outputs": [],
   "source": [
    "import numpy as np\n",
    "import os\n",
    "import tensorflow as tf\n",
    "tf.compat.v1.logging.set_verbosity(tf.compat.v1.logging.ERROR)\n",
    "\n",
    "def get_train_data(train_dir):\n",
    "    x_train = np.load(os.path.join(train_dir, 'x_train.npy'))\n",
    "    y_train = np.load(os.path.join(train_dir, 'y_train.npy'))\n",
    "    print('x train', x_train.shape,'y train', y_train.shape)\n",
    "\n",
    "    return x_train, y_train\n",
    "\n",
    "\n",
    "def get_test_data(test_dir):\n",
    "    x_test = np.load(os.path.join(test_dir, 'x_test.npy'))\n",
    "    y_test = np.load(os.path.join(test_dir, 'y_test.npy'))\n",
    "    print('x test', x_test.shape,'y test', y_test.shape)\n",
    "\n",
    "    return x_test, y_test\n",
    "\n",
    "def get_model():\n",
    "    inputs = tf.keras.Input(shape=(13,))\n",
    "    hidden_1 = tf.keras.layers.Dense(13, activation='tanh')(inputs)\n",
    "    hidden_2 = tf.keras.layers.Dense(6, activation='sigmoid')(hidden_1)\n",
    "    outputs = tf.keras.layers.Dense(1)(hidden_2)\n",
    "    return tf.keras.Model(inputs=inputs, outputs=outputs)\n"
   ]
  },
  {
   "cell_type": "code",
   "execution_count": 16,
   "metadata": {
    "Collapsed": "false"
   },
   "outputs": [
    {
     "name": "stdout",
     "output_type": "stream",
     "text": [
      "x train (404, 13) y train (404,)\n",
      "x test (102, 13) y test (102,)\n",
      "/cpu:0\n",
      "batch_size = 128, epochs = 80, learning rate = 0.01\n",
      "[2022-11-15 21:05:50.270 tensorflow-2-3-cpu-py-ml-t3-medium-dbca98283d57d615662c4efa28c8:65 INFO utils.py:27] RULE_JOB_STOP_SIGNAL_FILENAME: None\n",
      "[2022-11-15 21:05:50.544 tensorflow-2-3-cpu-py-ml-t3-medium-dbca98283d57d615662c4efa28c8:65 INFO profiler_config_parser.py:102] Unable to find config at /opt/ml/input/config/profilerconfig.json. Profiler is disabled.\n",
      "Epoch 1/80\n",
      "4/4 [==============================] - 0s 50ms/step - loss: 523.8408 - val_loss: 409.4091\n",
      "Epoch 2/80\n",
      "4/4 [==============================] - 0s 12ms/step - loss: 340.5691 - val_loss: 240.6197\n",
      "Epoch 3/80\n",
      "4/4 [==============================] - 0s 11ms/step - loss: 195.0746 - val_loss: 136.6693\n",
      "Epoch 4/80\n",
      "4/4 [==============================] - 0s 11ms/step - loss: 114.6293 - val_loss: 92.8787\n",
      "Epoch 5/80\n",
      "4/4 [==============================] - 0s 11ms/step - loss: 82.9420 - val_loss: 70.0941\n",
      "Epoch 6/80\n",
      "4/4 [==============================] - 0s 12ms/step - loss: 66.3441 - val_loss: 61.8001\n",
      "Epoch 7/80\n",
      "4/4 [==============================] - 0s 11ms/step - loss: 58.6668 - val_loss: 50.7650\n",
      "Epoch 8/80\n",
      "4/4 [==============================] - 0s 12ms/step - loss: 52.4140 - val_loss: 50.0351\n",
      "Epoch 9/80\n",
      "4/4 [==============================] - 0s 12ms/step - loss: 50.3647 - val_loss: 46.8376\n",
      "Epoch 10/80\n",
      "4/4 [==============================] - 0s 11ms/step - loss: 48.3975 - val_loss: 44.5048\n",
      "Epoch 11/80\n",
      "4/4 [==============================] - 0s 12ms/step - loss: 46.7192 - val_loss: 43.7150\n",
      "Epoch 12/80\n",
      "4/4 [==============================] - 0s 12ms/step - loss: 45.4074 - val_loss: 41.7081\n",
      "Epoch 13/80\n",
      "4/4 [==============================] - 0s 12ms/step - loss: 44.1139 - val_loss: 42.5560\n",
      "Epoch 14/80\n",
      "4/4 [==============================] - 0s 13ms/step - loss: 42.7079 - val_loss: 38.9048\n",
      "Epoch 15/80\n",
      "4/4 [==============================] - 0s 15ms/step - loss: 40.6248 - val_loss: 37.8141\n",
      "Epoch 16/80\n",
      "4/4 [==============================] - 0s 12ms/step - loss: 39.5409 - val_loss: 36.2676\n",
      "Epoch 17/80\n",
      "4/4 [==============================] - 0s 12ms/step - loss: 37.7904 - val_loss: 34.2429\n",
      "Epoch 18/80\n",
      "4/4 [==============================] - 0s 12ms/step - loss: 35.4727 - val_loss: 33.6864\n",
      "Epoch 19/80\n",
      "4/4 [==============================] - 0s 14ms/step - loss: 33.3162 - val_loss: 32.2923\n",
      "Epoch 20/80\n",
      "4/4 [==============================] - 0s 13ms/step - loss: 31.7710 - val_loss: 30.7202\n",
      "Epoch 21/80\n",
      "4/4 [==============================] - 0s 14ms/step - loss: 30.3700 - val_loss: 28.5911\n",
      "Epoch 22/80\n",
      "4/4 [==============================] - 0s 11ms/step - loss: 28.9762 - val_loss: 40.1318\n",
      "Epoch 23/80\n",
      "4/4 [==============================] - 0s 12ms/step - loss: 32.1809 - val_loss: 27.6359\n",
      "Epoch 24/80\n",
      "4/4 [==============================] - 0s 13ms/step - loss: 26.5345 - val_loss: 27.2197\n",
      "Epoch 25/80\n",
      "4/4 [==============================] - 0s 14ms/step - loss: 25.3545 - val_loss: 25.4503\n",
      "Epoch 26/80\n",
      "4/4 [==============================] - 0s 12ms/step - loss: 24.0590 - val_loss: 26.1270\n",
      "Epoch 27/80\n",
      "4/4 [==============================] - 0s 12ms/step - loss: 24.0223 - val_loss: 26.3479\n",
      "Epoch 28/80\n",
      "4/4 [==============================] - 0s 12ms/step - loss: 22.2047 - val_loss: 28.1648\n",
      "Epoch 29/80\n",
      "4/4 [==============================] - 0s 12ms/step - loss: 21.9399 - val_loss: 24.4261\n",
      "Epoch 30/80\n",
      "4/4 [==============================] - 0s 12ms/step - loss: 21.0571 - val_loss: 24.7326\n",
      "Epoch 31/80\n",
      "4/4 [==============================] - 0s 12ms/step - loss: 21.6321 - val_loss: 23.0157\n",
      "Epoch 32/80\n",
      "4/4 [==============================] - 0s 12ms/step - loss: 21.0698 - val_loss: 24.0100\n",
      "Epoch 33/80\n",
      "4/4 [==============================] - 0s 11ms/step - loss: 20.1590 - val_loss: 23.5209\n",
      "Epoch 34/80\n",
      "4/4 [==============================] - 0s 12ms/step - loss: 18.4036 - val_loss: 25.9322\n",
      "Epoch 35/80\n",
      "4/4 [==============================] - 0s 12ms/step - loss: 18.5975 - val_loss: 46.4510\n",
      "Epoch 36/80\n",
      "4/4 [==============================] - 0s 12ms/step - loss: 26.3501 - val_loss: 21.8239\n",
      "Epoch 37/80\n",
      "4/4 [==============================] - 0s 12ms/step - loss: 17.7797 - val_loss: 20.8410\n",
      "Epoch 38/80\n",
      "4/4 [==============================] - 0s 11ms/step - loss: 17.4910 - val_loss: 21.6547\n",
      "Epoch 39/80\n",
      "4/4 [==============================] - 0s 12ms/step - loss: 17.7320 - val_loss: 21.3987\n",
      "Epoch 40/80\n",
      "4/4 [==============================] - 0s 12ms/step - loss: 16.3113 - val_loss: 20.3024\n",
      "Epoch 41/80\n",
      "4/4 [==============================] - 0s 12ms/step - loss: 16.5309 - val_loss: 30.5580\n",
      "Epoch 42/80\n",
      "4/4 [==============================] - 0s 12ms/step - loss: 16.5829 - val_loss: 22.1456\n",
      "Epoch 43/80\n",
      "4/4 [==============================] - 0s 11ms/step - loss: 16.1341 - val_loss: 19.7520\n",
      "Epoch 44/80\n",
      "4/4 [==============================] - 0s 12ms/step - loss: 16.5787 - val_loss: 21.5996\n",
      "Epoch 45/80\n",
      "4/4 [==============================] - 0s 12ms/step - loss: 14.3841 - val_loss: 20.5279\n",
      "Epoch 46/80\n",
      "4/4 [==============================] - 0s 12ms/step - loss: 13.8539 - val_loss: 25.9087\n",
      "Epoch 47/80\n",
      "4/4 [==============================] - 0s 12ms/step - loss: 14.8844 - val_loss: 21.4814\n",
      "Epoch 48/80\n",
      "4/4 [==============================] - 0s 12ms/step - loss: 14.0281 - val_loss: 22.9560\n",
      "Epoch 49/80\n",
      "4/4 [==============================] - 0s 12ms/step - loss: 12.9921 - val_loss: 23.4148\n",
      "Epoch 50/80\n",
      "4/4 [==============================] - 0s 11ms/step - loss: 13.1357 - val_loss: 22.4168\n",
      "Epoch 51/80\n",
      "4/4 [==============================] - 0s 11ms/step - loss: 12.4025 - val_loss: 20.3168\n",
      "Epoch 52/80\n",
      "4/4 [==============================] - 0s 12ms/step - loss: 13.4594 - val_loss: 31.6433\n",
      "Epoch 53/80\n",
      "4/4 [==============================] - 0s 11ms/step - loss: 15.5293 - val_loss: 22.6700\n",
      "Epoch 54/80\n",
      "4/4 [==============================] - 0s 12ms/step - loss: 11.8584 - val_loss: 20.9957\n",
      "Epoch 55/80\n",
      "4/4 [==============================] - 0s 12ms/step - loss: 11.6487 - val_loss: 22.5315\n",
      "Epoch 56/80\n",
      "4/4 [==============================] - 0s 11ms/step - loss: 11.7790 - val_loss: 43.0049\n",
      "Epoch 57/80\n",
      "4/4 [==============================] - 0s 11ms/step - loss: 25.8692 - val_loss: 19.7814\n",
      "Epoch 58/80\n",
      "4/4 [==============================] - 0s 11ms/step - loss: 11.6195 - val_loss: 21.3325\n",
      "Epoch 59/80\n",
      "4/4 [==============================] - 0s 11ms/step - loss: 11.0489 - val_loss: 22.2762\n",
      "Epoch 60/80\n",
      "4/4 [==============================] - 0s 12ms/step - loss: 10.9011 - val_loss: 19.3372\n",
      "Epoch 61/80\n",
      "4/4 [==============================] - 0s 12ms/step - loss: 11.9198 - val_loss: 18.2809\n",
      "Epoch 62/80\n",
      "4/4 [==============================] - 0s 13ms/step - loss: 11.4343 - val_loss: 22.0139\n",
      "Epoch 63/80\n",
      "4/4 [==============================] - 0s 12ms/step - loss: 11.5653 - val_loss: 18.2627\n",
      "Epoch 64/80\n",
      "4/4 [==============================] - 0s 12ms/step - loss: 10.6825 - val_loss: 17.8709\n",
      "Epoch 65/80\n",
      "4/4 [==============================] - 0s 12ms/step - loss: 10.0617 - val_loss: 25.8764\n",
      "Epoch 66/80\n",
      "4/4 [==============================] - 0s 12ms/step - loss: 11.3339 - val_loss: 19.7114\n",
      "Epoch 67/80\n",
      "4/4 [==============================] - 0s 13ms/step - loss: 9.3880 - val_loss: 16.7163\n",
      "Epoch 68/80\n",
      "4/4 [==============================] - 0s 12ms/step - loss: 9.5188 - val_loss: 16.3831\n",
      "Epoch 69/80\n",
      "4/4 [==============================] - 0s 12ms/step - loss: 9.6872 - val_loss: 17.1715\n",
      "Epoch 70/80\n",
      "4/4 [==============================] - 0s 12ms/step - loss: 9.6528 - val_loss: 18.6231\n",
      "Epoch 71/80\n",
      "4/4 [==============================] - 0s 12ms/step - loss: 9.1584 - val_loss: 20.9918\n",
      "Epoch 72/80\n",
      "4/4 [==============================] - 0s 12ms/step - loss: 10.1847 - val_loss: 17.8945\n",
      "Epoch 73/80\n",
      "4/4 [==============================] - 0s 12ms/step - loss: 10.9919 - val_loss: 17.9576\n",
      "Epoch 74/80\n",
      "4/4 [==============================] - 0s 12ms/step - loss: 9.2130 - val_loss: 16.3866\n",
      "Epoch 75/80\n",
      "4/4 [==============================] - 0s 11ms/step - loss: 9.1350 - val_loss: 16.3243\n",
      "Epoch 76/80\n",
      "4/4 [==============================] - 0s 11ms/step - loss: 9.2628 - val_loss: 18.8712\n",
      "Epoch 77/80\n",
      "4/4 [==============================] - 0s 11ms/step - loss: 8.6077 - val_loss: 16.0189\n",
      "Epoch 78/80\n",
      "4/4 [==============================] - 0s 11ms/step - loss: 8.3856 - val_loss: 16.7194\n",
      "Epoch 79/80\n",
      "4/4 [==============================] - 0s 12ms/step - loss: 9.8977 - val_loss: 16.4199\n",
      "Epoch 80/80\n",
      "4/4 [==============================] - 0s 12ms/step - loss: 8.3342 - val_loss: 17.5506\n",
      "1/1 - 0s - loss: 17.5506\n",
      "\n",
      "Test MSE : 17.550594329833984\n"
     ]
    }
   ],
   "source": [
    "x_train, y_train = get_train_data(train_dir)\n",
    "x_test, y_test = get_test_data(test_dir)\n",
    "\n",
    "device = '/cpu:0'\n",
    "print(device)\n",
    "batch_size = 128\n",
    "epochs = 80\n",
    "learning_rate = 0.01\n",
    "print('batch_size = {}, epochs = {}, learning rate = {}'.format(batch_size, epochs, learning_rate))\n",
    "\n",
    "with tf.device(device):\n",
    "    model = get_model()\n",
    "    optimizer = tf.keras.optimizers.SGD(learning_rate)\n",
    "    model.compile(optimizer=optimizer, loss='mse')\n",
    "    model.fit(x_train, y_train, batch_size=batch_size, epochs=epochs,\n",
    "              validation_data=(x_test, y_test))\n",
    "\n",
    "    # evaluar en el Dataset\n",
    "    scores = model.evaluate(x_test, y_test, batch_size, verbose=2)\n",
    "    print(\"\\nTest MSE :\", scores)\n"
   ]
  },
  {
   "cell_type": "markdown",
   "metadata": {
    "Collapsed": "false"
   },
   "source": [
    "El archivo descomprimido debe incluir los activos requeridos por TensorFlow Serving para cargar el modelo y servirlo, incluyendo un archivo .pb:  "
   ]
  },
  {
   "cell_type": "code",
   "execution_count": 17,
   "metadata": {
    "Collapsed": "false"
   },
   "outputs": [],
   "source": [
    "model.save('model' + '/1')"
   ]
  },
  {
   "cell_type": "markdown",
   "metadata": {
    "Collapsed": "false"
   },
   "source": [
    "# Puntuación del modelo"
   ]
  },
  {
   "cell_type": "code",
   "execution_count": 18,
   "metadata": {
    "Collapsed": "false"
   },
   "outputs": [
    {
     "name": "stdout",
     "output_type": "stream",
     "text": [
      "4/4 - 0s - loss: 17.5506\n",
      "\n",
      "Test MSE : 17.550594329833984\n"
     ]
    }
   ],
   "source": [
    "import numpy as np\n",
    "import tensorflow as tf\n",
    "\n",
    "model = tf.keras.models.load_model('model/1')\n",
    "\n",
    "x_test = np.load(os.path.join(test_dir, 'x_test.npy'))\n",
    "y_test = np.load(os.path.join(test_dir, 'y_test.npy'))\n",
    "scores = model.evaluate(x_test, y_test, verbose=2)\n",
    "print(\"\\nTest MSE :\", scores)"
   ]
  },
  {
   "cell_type": "code",
   "execution_count": null,
   "metadata": {},
   "outputs": [],
   "source": []
  }
 ],
 "metadata": {
  "instance_type": "ml.t3.medium",
  "kernelspec": {
   "display_name": "Python 3.9.15 64-bit",
   "language": "python",
   "name": "python3"
  },
  "language_info": {
   "codemirror_mode": {
    "name": "ipython",
    "version": 3
   },
   "file_extension": ".py",
   "mimetype": "text/x-python",
   "name": "python",
   "nbconvert_exporter": "python",
   "pygments_lexer": "ipython3",
   "version": "3.9.15"
  },
  "vscode": {
   "interpreter": {
    "hash": "f9f85f796d01129d0dd105a088854619f454435301f6ffec2fea96ecbd9be4ac"
   }
  }
 },
 "nbformat": 4,
 "nbformat_minor": 4
}
